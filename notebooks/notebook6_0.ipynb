{
 "cells": [
  {
   "cell_type": "code",
   "execution_count": null,
   "metadata": {},
   "outputs": [],
   "source": [
    "from Lib.myModules.my_ML_Modules_1 import *\n",
    "import math\n",
    "import sys\n",
    "import contextlib"
   ]
  },
  {
   "cell_type": "code",
   "execution_count": null,
   "metadata": {},
   "outputs": [],
   "source": [
    "data_dir = \"../data\"\n",
    "infantNum = 6\n",
    "ECG_dataset = f\"{data_dir}/infant{infantNum}_ecg\"\n",
    "RESP_dataset = f\"{data_dir}/infant{infantNum}_resp\"\n",
    "# Read all the data\n",
    "signal_ecg_0 = wfdb.rdsamp(f\"{data_dir}/infant{infantNum}_ecg\")\n",
    "signal_resp_0 = wfdb.rdsamp(f\"{data_dir}/infant{infantNum}_resp\")\n",
    "print(f'ECG DATA: {signal_ecg_0[1]}')\n",
    "print(F'RESP DATA: {signal_resp_0[1]}')\n",
    "totalDuration_ECG = num2Time(num=signal_ecg_0[1]['sig_len'], fs=signal_ecg_0[1]['fs'])\n",
    "print(f'{totalDuration_ECG} sec, {secs2minutes(totalDuration_ECG)} minutes, {secs2hours(totalDuration_ECG)} hours')\n",
    "totalDuration_RESP = num2Time(num=signal_resp_0[1]['sig_len'], fs=signal_resp_0[1]['fs'])\n",
    "print(f'{totalDuration_RESP} sec, {secs2minutes(totalDuration_RESP)} minutes, {secs2hours(totalDuration_RESP)} hours')\n",
    "# Start and end time defined\n",
    "# start_time_secs = hours2secs(1)\n",
    "# end_time_secs = hours2secs(1.1)\n",
    "\n",
    "def training_pipeline(start_time_secs, end_time_secs):\n",
    "    ECG_startNum = time2Num(start_time_secs, signal_ecg_0[1]['fs'])\n",
    "    ECG_endNum = time2Num(end_time_secs, signal_ecg_0[1]['fs'])\n",
    "    print(f'start: {ECG_startNum}, end: {ECG_endNum}')\n",
    "    RESP_startNum = time2Num(start_time_secs, signal_resp_0[1]['fs'])\n",
    "    RESP_endNum = time2Num(end_time_secs, signal_resp_0[1]['fs'])\n",
    "    print(f'start: {RESP_startNum}, end: {RESP_endNum}')\n",
    "    signal_ECG, signal_ECG_startTime_secs, signal_ECG_endTime_secs = read_Data(ECG_dataset, startNum=ECG_startNum, endNum=ECG_endNum)\n",
    "    signal_RESP, signal_RESP_startTime_secs, signal_RESP_endTime_secs = read_Data(RESP_dataset, startNum=RESP_startNum, endNum=RESP_endNum)\n",
    "    # print(signal_ECG[0].shape)\n",
    "    signal_ECG_1 = iqr_smooth(signal=signal_ECG[0],hiPerc=90,loPerc=10, cutoff_factor=1)\n",
    "    # print(signal_RESP[0].shape)\n",
    "    signal_RESP_1 = iqr_smooth(signal=signal_RESP[0],hiPerc=90,loPerc=10, cutoff_factor=1)\n",
    "    signal_ECG_2 = norm_signal(signal=signal_ECG_1)\n",
    "    signal_RESP_2 = norm_signal(signal=signal_RESP_1)\n",
    "    hrs_0 = cal_heartrate(signal=signal_ECG_2, fs=signal_ECG[1]['fs'])\n",
    "    rrs_0 = cal_resprate(signal=signal_RESP_2, fs=signal_RESP[1]['fs'])\n",
    "    if (rrs_0.shape[0] < hrs_0.shape[0]):\n",
    "        hrs_1 = data_resample(data_fixNan(hrs_0), rrs_0.shape[0])\n",
    "        rrs_1 = data_fixNan(rrs_0)\n",
    "    else:\n",
    "        rrs_1 = data_resample(data_fixNan(rrs_0), hrs_0.shape[0])\n",
    "        hrs_1 = data_fixNan(hrs_0)\n",
    "    correlationTest(rrs_1[:],hrs_1[:], plot=False)\n",
    "    print(\"---------------------------------------------\")\n",
    "    print(\"--- Linear Regression ---\")\n",
    "    lr_model_1 = train_lr_model(X=rrs_1, y=hrs_1)\n",
    "    print(\"---------------------------------------------\")\n",
    "    print(\"--- Polynomial Regression ---\")\n",
    "    pr_model_1 = train_pr_model(X=rrs_1, y=hrs_1, degree=6)\n",
    "    print(\"---------------------------------------------\")\n",
    "    print(\"--- SVR Radius Basis Function---\")\n",
    "    svr_rbf_1 = train_svr_rbf_model(X=rrs_1, y=hrs_1, param_C=100, param_gamma=0.1, seed=42)\n",
    "    print(\"--- SVR Linear ---\")\n",
    "    svr_lin_1 = train_svr_lin_model(X=rrs_1, y=hrs_1, param_C=1000, param_gamma='auto', seed=42)\n",
    "    print(\"--- SVR Polynomial ---\")\n",
    "    svr_poly_1 = train_svr_poly_model(X=rrs_1, y=hrs_1, param_C=1000, param_gamma='auto', param_degree=6, seed=42)\n",
    "    return lr_model_1, pr_model_1, svr_rbf_1, svr_lin_1, svr_poly_1\n",
    "\n",
    "\n",
    "def cascade_training_pipeline(lr_model, pr_model, svr_rbf_model, svr_lin_model, svr_poly_model, start_time_secs, end_time_secs):\n",
    "    ECG_startNum = time2Num(start_time_secs, signal_ecg_0[1]['fs'])\n",
    "    ECG_endNum = time2Num(end_time_secs, signal_ecg_0[1]['fs'])\n",
    "    print(f'start: {ECG_startNum}, end: {ECG_endNum}')\n",
    "    RESP_startNum = time2Num(start_time_secs, signal_resp_0[1]['fs'])\n",
    "    RESP_endNum = time2Num(end_time_secs, signal_resp_0[1]['fs'])\n",
    "    print(f'start: {RESP_startNum}, end: {RESP_endNum}')\n",
    "    signal_ECG, signal_ECG_startTime_secs, signal_ECG_endTime_secs = read_Data(ECG_dataset, startNum=ECG_startNum, endNum=ECG_endNum)\n",
    "    signal_RESP, signal_RESP_startTime_secs, signal_RESP_endTime_secs = read_Data(RESP_dataset, startNum=RESP_startNum, endNum=RESP_endNum)\n",
    "    # print(signal_ECG[0].shape)\n",
    "    signal_ECG_1 = iqr_smooth(signal=signal_ECG[0],hiPerc=90,loPerc=10, cutoff_factor=1)\n",
    "    # print(signal_RESP[0].shape)\n",
    "    signal_RESP_1 = iqr_smooth(signal=signal_RESP[0],hiPerc=90,loPerc=10, cutoff_factor=1)\n",
    "    signal_ECG_2 = norm_signal(signal=signal_ECG_1)\n",
    "    signal_RESP_2 = norm_signal(signal=signal_RESP_1)\n",
    "    hrs_0 = cal_heartrate(signal=signal_ECG_2, fs=signal_ECG[1]['fs'])\n",
    "    rrs_0 = cal_resprate(signal=signal_RESP_2, fs=signal_RESP[1]['fs'])\n",
    "    if (rrs_0.shape[0] < hrs_0.shape[0]):\n",
    "        hrs_1 = data_resample(data_fixNan(hrs_0), rrs_0.shape[0])\n",
    "        rrs_1 = data_fixNan(rrs_0)\n",
    "    else:\n",
    "        rrs_1 = data_resample(data_fixNan(rrs_0), hrs_0.shape[0])\n",
    "        hrs_1 = data_fixNan(hrs_0)\n",
    "    correlationTest(rrs_1[:],hrs_1[:], plot=False)\n",
    "    print(\"---------------------------------------------\")\n",
    "    print(\"--- Linear Regression ---\")\n",
    "    lr_model = cascade_train_lr_model(model=lr_model, X=rrs_1, y=hrs_1)\n",
    "    print(\"---------------------------------------------\")\n",
    "    print(\"--- Polynomial Regression ---\")\n",
    "    pr_model = cascade_train_pr_model(model=pr_model, X=rrs_1, y=hrs_1, degree=6)\n",
    "    print(\"---------------------------------------------\")\n",
    "    print(\"--- SVR Radius Basis Function---\")\n",
    "    svr_rbf_model = cascade_train_svr_rbf_model(model=svr_rbf_model, X=rrs_1, y=hrs_1, param_C=100, param_gamma=0.1)\n",
    "    print(\"--- SVR Linear ---\")\n",
    "    svr_lin_model = cascade_train_svr_lin_model(model=svr_lin_model, X=rrs_1, y=hrs_1, param_C=1000, param_gamma='auto')\n",
    "    print(\"--- SVR Polynomial ---\")\n",
    "    svr_poly_model = cascade_train_svr_poly_model(model=svr_poly_model, X=rrs_1, y=hrs_1, param_C=1000, param_gamma='auto', param_degree=6)\n",
    "    return lr_model, pr_model, svr_rbf_model, svr_lin_model, svr_poly_model\n",
    "\n"
   ]
  },
  {
   "cell_type": "code",
   "execution_count": null,
   "metadata": {},
   "outputs": [],
   "source": [
    "# initialize the training\n",
    "start_time_secs = hours2secs(1)\n",
    "end_time_secs = hours2secs(1.1)\n",
    "\n",
    "lr_model, pr_model, svr_rbf_model, svr_lin_model, svr_poly_model = training_pipeline(start_time_secs=start_time_secs, end_time_secs=end_time_secs)"
   ]
  },
  {
   "cell_type": "code",
   "execution_count": null,
   "metadata": {},
   "outputs": [],
   "source": [
    "logFilePath = f\"../logs/infant{infantNum}_train_output.log\"\n",
    "with open(logFilePath, 'a') as f:\n",
    "    with contextlib.redirect_stdout(f):\n",
    "        for i in np.arange(1, math.floor(secs2hours(totalDuration_ECG)), 0.1):\n",
    "            print(\"-------------------------------------------------------------------------\")\n",
    "            print(f\"Data bin index: {i:.1f}\")\n",
    "            start_time_secs = hours2secs(i)\n",
    "            end_time_secs = hours2secs(i+0.1)\n",
    "            lr_model, pr_model, svr_rbf_model, svr_lin_model, svr_poly_model = cascade_training_pipeline(lr_model, pr_model, svr_rbf_model, svr_lin_model, svr_poly_model, start_time_secs=start_time_secs, end_time_secs=end_time_secs)"
   ]
  },
  {
   "cell_type": "code",
   "execution_count": null,
   "metadata": {},
   "outputs": [],
   "source": [
    "# save the model\n",
    "for i in [lr_model, pr_model, svr_rbf_model, svr_lin_model, svr_poly_model]:\n",
    "    filename = f\"../models/infant_{infantNum}/{i}.sav\"\n",
    "    joblib.dump(i, filename)\n"
   ]
  }
 ],
 "metadata": {
  "kernelspec": {
   "display_name": "mcs_aml_venv_1",
   "language": "python",
   "name": "python3"
  },
  "language_info": {
   "codemirror_mode": {
    "name": "ipython",
    "version": 3
   },
   "file_extension": ".py",
   "mimetype": "text/x-python",
   "name": "python",
   "nbconvert_exporter": "python",
   "pygments_lexer": "ipython3",
   "version": "3.10.6"
  },
  "orig_nbformat": 4,
  "vscode": {
   "interpreter": {
    "hash": "a14dbdb1f72aaa09167b48d00cde9d80f1c9c9222724b1b54b66fa4b88a3fbfb"
   }
  }
 },
 "nbformat": 4,
 "nbformat_minor": 2
}
