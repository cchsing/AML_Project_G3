{
 "cells": [
  {
   "cell_type": "code",
   "execution_count": 1,
   "metadata": {},
   "outputs": [],
   "source": [
    "from Lib.myModules.my_ML_Modules_1 import *\n",
    "import math\n",
    "import sys\n",
    "import contextlib"
   ]
  },
  {
   "cell_type": "code",
   "execution_count": 2,
   "metadata": {},
   "outputs": [
    {
     "name": "stdout",
     "output_type": "stream",
     "text": [
      "ECG DATA: {'fs': 500, 'sig_len': 36604500, 'n_sig': 1, 'base_date': None, 'base_time': None, 'units': ['mV'], 'sig_name': ['II'], 'comments': []}\n",
      "RESP DATA: {'fs': 50, 'sig_len': 3660288, 'n_sig': 1, 'base_date': None, 'base_time': None, 'units': ['NU'], 'sig_name': ['RESP'], 'comments': []}\n",
      "73209.0 sec, 1220.15 minutes, 20.335833333333333 hours\n",
      "73205.76 sec, 1220.096 minutes, 20.334933333333332 hours\n"
     ]
    }
   ],
   "source": [
    "data_dir = \"../data\"\n",
    "infantNum = 7\n",
    "ECG_dataset = f\"{data_dir}/infant{infantNum}_ecg\"\n",
    "RESP_dataset = f\"{data_dir}/infant{infantNum}_resp\"\n",
    "# Read all the data\n",
    "signal_ecg_0 = wfdb.rdsamp(f\"{data_dir}/infant{infantNum}_ecg\")\n",
    "signal_resp_0 = wfdb.rdsamp(f\"{data_dir}/infant{infantNum}_resp\")\n",
    "print(f'ECG DATA: {signal_ecg_0[1]}')\n",
    "print(F'RESP DATA: {signal_resp_0[1]}')\n",
    "totalDuration_ECG = num2Time(num=signal_ecg_0[1]['sig_len'], fs=signal_ecg_0[1]['fs'])\n",
    "print(f'{totalDuration_ECG} sec, {secs2minutes(totalDuration_ECG)} minutes, {secs2hours(totalDuration_ECG)} hours')\n",
    "totalDuration_RESP = num2Time(num=signal_resp_0[1]['sig_len'], fs=signal_resp_0[1]['fs'])\n",
    "print(f'{totalDuration_RESP} sec, {secs2minutes(totalDuration_RESP)} minutes, {secs2hours(totalDuration_RESP)} hours')"
   ]
  },
  {
   "cell_type": "code",
   "execution_count": 3,
   "metadata": {},
   "outputs": [
    {
     "name": "stdout",
     "output_type": "stream",
     "text": [
      "start: 3600000, end: 3960000\n",
      "start: 360000, end: 396000\n",
      "90th percentile: 0.11995144614709725, 10th percentile: -0.17992716922064586, IQR: 0.29987861536774313\n",
      "Identified outliers: 11631\n",
      "Data Shape: (360000,)\n",
      "90th percentile: 15.811509092328134, 10th percentile: 13.49227496120499, IQR: 2.319234131123144\n",
      "Identified outliers: 447\n",
      "Data Shape: (36000,)\n",
      "[[163.47022361  -2.15494087]\n",
      " [ -2.15494087 259.63075321]]\n",
      "Pearsons correlation: -0.010\n",
      "Spearmans correlation: -0.047\n",
      "---------------------------------------------\n",
      "--- Linear Regression ---\n",
      "Coefficient of determination: 0.00026826482473740754\n",
      "Intercept: [159.81155]\n",
      "Coefficients: [[-0.02063925]]\n",
      "Mean absolute error: 8.44\n",
      "Mean squared error: 254.02\n",
      "Root mean squared error: 15.94\n",
      "---------------------------------------------\n",
      "--- Polynomial Regression ---\n",
      "Coefficient of determination: 0.002645111596114802\n",
      "Intercept: [159.74173]\n",
      "Coefficients: [[-1.7446868e-10 -7.1856143e-09 -1.5037678e-07 -2.3505934e-06\n",
      "   3.7799154e-08  1.1052137e-10]]\n",
      "Mean absolute error: 8.53\n",
      "Mean squared error: 255.66\n",
      "Root mean squared error: 15.99\n",
      "---------------------------------------------\n",
      "--- SVR Radius Basis Function---\n",
      "Coefficient of determination: -0.009761672330715898\n",
      "Intercept: [0.64259721]\n",
      "Mean absolute error: 8.72\n",
      "Mean squared error: 257.21\n",
      "Root mean squared error: 16.04\n"
     ]
    }
   ],
   "source": [
    "# initialize the training\n",
    "start_time_secs = hours2secs(2)\n",
    "end_time_secs = hours2secs(2.2)\n",
    "lr_model, pr_model, svr_rbf_model = training_pipeline(start_time_secs=start_time_secs, \n",
    "                                                        end_time_secs=end_time_secs, \n",
    "                                                        signal_ecg_0=signal_ecg_0,\n",
    "                                                        signal_resp_0=signal_resp_0,\n",
    "                                                        ECG_dataset=ECG_dataset,\n",
    "                                                        RESP_dataset=RESP_dataset)"
   ]
  },
  {
   "cell_type": "code",
   "execution_count": 4,
   "metadata": {},
   "outputs": [],
   "source": [
    "step = 0.25\n",
    "startHrs = 10\n",
    "endHrs = 12\n",
    "logFilePath = f\"../logs/infant{infantNum}_step{step}_startHrs{startHrs}_endHrs{endHrs}.log\"\n",
    "\n",
    "with open(logFilePath, 'a') as f:\n",
    "    with contextlib.redirect_stdout(f):\n",
    "        for i in np.arange(startHrs, endHrs, step):\n",
    "            print(\"-------------------------------------------------------------------------\")\n",
    "            print(f\"Data bin index: {i:.3f}\")\n",
    "            start_time_secs = hours2secs(i)\n",
    "            end_time_secs = hours2secs(i+step)\n",
    "            lr_model, pr_model, svr_rbf_model = cascade_training_pipeline(lr_model=lr_model, \n",
    "                                                                            pr_model=pr_model, \n",
    "                                                                            svr_rbf_model=svr_rbf_model, \n",
    "                                                                            start_time_secs=start_time_secs, \n",
    "                                                                            end_time_secs=end_time_secs,\n",
    "                                                                            signal_ecg_0=signal_ecg_0,\n",
    "                                                                            signal_resp_0=signal_resp_0,\n",
    "                                                                            ECG_dataset=ECG_dataset,\n",
    "                                                                            RESP_dataset=RESP_dataset)"
   ]
  },
  {
   "cell_type": "code",
   "execution_count": 5,
   "metadata": {},
   "outputs": [],
   "source": [
    "# save the model\n",
    "for i in [lr_model, pr_model, svr_rbf_model]:\n",
    "    filename = f\"../models/infant_{infantNum}/{namestr(i, globals())[0]}_step{step}_startHrs{startHrs}_endHrs{endHrs}.sav\"\n",
    "    joblib.dump(i, filename)\n"
   ]
  }
 ],
 "metadata": {
  "kernelspec": {
   "display_name": "mcs_aml_venv_1",
   "language": "python",
   "name": "python3"
  },
  "language_info": {
   "codemirror_mode": {
    "name": "ipython",
    "version": 3
   },
   "file_extension": ".py",
   "mimetype": "text/x-python",
   "name": "python",
   "nbconvert_exporter": "python",
   "pygments_lexer": "ipython3",
   "version": "3.10.6"
  },
  "orig_nbformat": 4,
  "vscode": {
   "interpreter": {
    "hash": "a14dbdb1f72aaa09167b48d00cde9d80f1c9c9222724b1b54b66fa4b88a3fbfb"
   }
  }
 },
 "nbformat": 4,
 "nbformat_minor": 2
}
