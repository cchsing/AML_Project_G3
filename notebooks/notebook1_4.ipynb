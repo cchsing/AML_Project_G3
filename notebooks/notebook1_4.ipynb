{
 "cells": [
  {
   "attachments": {},
   "cell_type": "markdown",
   "metadata": {},
   "source": [
    "# Version 3 for Infant 1 processing\n",
    "1. Read the data\n",
    "1. Perform interquartile range smoothing for outlier\n",
    "1. Normalize the data to (-1, 1)\n",
    "1. Calculate the Heart rate (BPM) and respiration rate (BPM)\n",
    "    - save the data into .npy files\n",
    "1. Resample the data to same cardinality\n",
    "1. Correlation test\n",
    "1. Linear Regression\n",
    "    - export model\n",
    "1. Polynomial Regression\n",
    "    - export model\n",
    "1. Support Vector Regression (SVR)\n",
    "    - export model"
   ]
  },
  {
   "cell_type": "code",
   "execution_count": null,
   "metadata": {},
   "outputs": [],
   "source": [
    "# Import of libraries/modules\n",
    "### -------------------------------------------\n",
    "import wfdb\n",
    "from wfdb import processing\n",
    "### ------------------------------------------- \n",
    "import scipy\n",
    "from scipy.signal import butter, lfilter, filtfilt\n",
    "### -------------------------------------------\n",
    "import matplotlib.pyplot as plt\n",
    "### -------------------------------------------\n",
    "import numpy as np\n",
    "### -------------------------------------------\n",
    "import pandas as pd\n",
    "### -------------------------------------------\n",
    "import sklearn\n",
    "from sklearn.preprocessing import MinMaxScaler\n",
    "from sklearn import preprocessing, svm\n",
    "from sklearn.model_selection import train_test_split\n",
    "from sklearn.linear_model import LinearRegression\n",
    "from sklearn.metrics import mean_absolute_error, mean_squared_error\n",
    "import joblib\n",
    "### -------------------------------------------\n",
    "import functools\n",
    "### -------------------------------------------\n",
    "import seaborn as sns\n",
    "### -------------------------------------------\n",
    "scaler = MinMaxScaler(feature_range=(-1,1))\n",
    "data_dir = \"../data\""
   ]
  },
  {
   "cell_type": "code",
   "execution_count": 5,
   "metadata": {},
   "outputs": [],
   "source": [
    "# Some Custom Function\n",
    "def startTime_num(time, fs):\n",
    "    n = time * fs\n",
    "    return n\n",
    "\n",
    "\n",
    "def iqr_remove_outlier(x, lower, upper):\n",
    "    if (x < lower):\n",
    "        return lower\n",
    "    elif (x > upper): \n",
    "        return upper\n",
    "    else:\n",
    "        return x\n",
    "\n",
    "\n",
    "def correlationTest(signal_1, signal_2, plot=True):\n",
    "    # Inspect by scatter plot\n",
    "    if plot: \n",
    "        plt.scatter(signal_1, signal_2)\n",
    "    # Covariance\n",
    "    covariance = np.cov(signal_1, signal_2)\n",
    "    print(covariance)\n",
    "    # calculate Pearson's correlation - 0 is no correlation -1 or 1 is highly correlated\n",
    "    corr, _ = scipy.stats.pearsonr(signal_1, signal_2)\n",
    "    print('Pearsons correlation: %.3f' % corr)\n",
    "    # calculate spearman's correlation - 0 is no correlation -1 or 1 is highly correlated\n",
    "    corr, _ = scipy.stats.spearmanr(signal_1, signal_2)\n",
    "    print('Spearmans correlation: %.3f' % corr)\n",
    "\n",
    "\n",
    "def peaks_hr(sig, peak_inds, fs, title, figsize=(20, 10), saveto=None):\n",
    "    \"Plot a signal with its peaks and heart rate\"\n",
    "    # Calculate heart rate\n",
    "    hrs = processing.hr.compute_hr(sig_len=sig.shape[0], qrs_inds=peak_inds, fs=fs)\n",
    "    \n",
    "    N = sig.shape[0]\n",
    "    \n",
    "    fig, ax_left = plt.subplots(figsize=figsize)\n",
    "    ax_right = ax_left.twinx()\n",
    "    \n",
    "    ax_left.plot(sig, color='#3979f0', label='Signal')\n",
    "    ax_left.plot(peak_inds, sig[peak_inds], 'rx', marker='x', \n",
    "                 color='#8b0000', label='Peak', markersize=12)\n",
    "    ax_right.plot(np.arange(N), hrs, label='Heart rate', color='m', linewidth=2)\n",
    "\n",
    "    ax_left.set_title(title)\n",
    "\n",
    "    ax_left.set_xlabel('Time (ms)')\n",
    "    ax_left.set_ylabel('ECG (mV)', color='#3979f0')\n",
    "    ax_right.set_ylabel('Heart rate (bpm)', color='m')\n",
    "    # Make the y-axis label, ticks and tick labels match the line color.\n",
    "    ax_left.tick_params('y', colors='#3979f0')\n",
    "    ax_right.tick_params('y', colors='m')\n",
    "    if saveto is not None:\n",
    "        plt.savefig(saveto, dpi=600)\n",
    "    plt.show()\n",
    "\n",
    "\n",
    "def butter_bandpass(lowcut, highcut, fs, order=5):\n",
    "    nyq = 0.5 * fs\n",
    "    low = lowcut / nyq\n",
    "    high = highcut / nyq\n",
    "    b, a = butter(order, [low, high], btype='band', analog=False)\n",
    "    return b, a\n",
    "\n",
    "\n",
    "def butter_bandpass_filter(data, lowcut, highcut, fs, order=5):\n",
    "    b, a = butter_bandpass(lowcut, highcut, fs, order=order)\n",
    "    y = lfilter(b, a, data)\n",
    "    return y\n",
    "\n",
    "\n",
    "def butter_lowpass(cutoff, fs, order=5):\n",
    "    nyq = 0.5 * fs\n",
    "    normal_cutoff = cutoff / nyq\n",
    "    b, a = butter(order, normal_cutoff, btype='low', analog=False)\n",
    "    return b, a\n",
    "\n",
    "\n",
    "def butter_lowpass_filter(data, cutoff, fs, order=5):\n",
    "    b, a = butter_lowpass(cutoff, fs, order=order)\n",
    "    y = lfilter(b, a, data)\n",
    "    return y\n",
    "\n",
    "\n",
    "def butter_highpass(cutoff, fs, order=5):\n",
    "    nyq = 0.5 * fs\n",
    "    normal_cutoff = cutoff / nyq\n",
    "    b, a = butter(order, normal_cutoff, btype='high', analog=False)\n",
    "    return b, a\n",
    "\n",
    "\n",
    "def butter_highpass_filter(data, cutoff, fs, order=5):\n",
    "    b, a = butter_highpass(cutoff, fs, order=order)\n",
    "    y = filtfilt(b, a, data)\n",
    "    return y\n",
    "\n",
    "\n",
    "def peaks_rr(sig, peak_inds, fs, title, figsize=(20, 10), saveto=None):\n",
    "    \"Plot a signal with its peaks and heart rate\"\n",
    "    # Calculate heart rate\n",
    "    hrs = processing.hr.compute_hr(sig_len=sig.shape[0], qrs_inds=peak_inds, fs=fs)\n",
    "    \n",
    "    N = sig.shape[0]\n",
    "    \n",
    "    fig, ax_left = plt.subplots(figsize=figsize)\n",
    "    ax_right = ax_left.twinx()\n",
    "    \n",
    "    ax_left.plot(sig, color='#3979f0', label='Signal')\n",
    "    ax_left.plot(peak_inds, sig[peak_inds], 'rx', marker='x', \n",
    "                 color='#8b0000', label='Peak', markersize=12)\n",
    "    ax_right.plot(np.arange(N), hrs, label='Repiration rate', color='m', linewidth=2)\n",
    "\n",
    "    ax_left.set_title(title)\n",
    "\n",
    "    ax_left.set_xlabel('Time (ms)')\n",
    "    ax_left.set_ylabel('RESP (NU)', color='#3979f0')\n",
    "    ax_right.set_ylabel('Repiration rate (bpm)', color='m')\n",
    "    # Make the y-axis label, ticks and tick labels match the line color.\n",
    "    ax_left.tick_params('y', colors='#3979f0')\n",
    "    ax_right.tick_params('y', colors='m')\n",
    "    if saveto is not None:\n",
    "        plt.savefig(saveto, dpi=600)\n",
    "    plt.show()"
   ]
  },
  {
   "attachments": {},
   "cell_type": "markdown",
   "metadata": {},
   "source": [
    "### Read the data"
   ]
  },
  {
   "cell_type": "code",
   "execution_count": 7,
   "metadata": {},
   "outputs": [],
   "source": [
    "# Read all the data\n",
    "signal_ecg_0 = wfdb.rdsamp(f\"{data_dir}/infant1_ecg\")\n",
    "record_ecg_0 = wfdb.rdrecord(f\"{data_dir}/infant1_ecg\")\n",
    "dataframe_ecg_0 = record_ecg_0.to_dataframe()\n",
    "annotation_ecg_0 = wfdb.rdann(f\"{data_dir}/infant1_ecg\", 'qrsc',shift_samps=True)\n",
    "startNum_ECG = 0\n",
    "endNum_ECG = signal_ecg_0[0].shape[0]\n",
    "\n",
    "signal_resp_0 = wfdb.rdsamp(f\"{data_dir}/infant1_resp\")\n",
    "record_resp_0 = wfdb.rdrecord(f\"{data_dir}/infant1_resp\")\n",
    "annotation_resp_0 = wfdb.rdann(f\"{data_dir}/infant1_resp\", 'resp',shift_samps=True)\n",
    "dataframe_resp_0 = record_resp_0.to_dataframe()\n",
    "startNum_RESP = 0\n",
    "endNum_RESP = signal_resp_0[0].shape[0]"
   ]
  },
  {
   "cell_type": "code",
   "execution_count": 9,
   "metadata": {},
   "outputs": [],
   "source": [
    "startTime_seconds_ECG = startNum_ECG/record_ecg_0.fs\n",
    "endTime_seconds_ECG = endNum_ECG/record_ecg_0.fs\n",
    "startTime_minutes_ECG = (startTime_seconds_ECG)/60\n",
    "endTime_minutes_ECG = (endTime_seconds_ECG)/60\n",
    "startTime_hours_ECG = startTime_minutes_ECG/60\n",
    "endTime_hours_ECG = endTime_minutes_ECG/60"
   ]
  },
  {
   "cell_type": "code",
   "execution_count": 10,
   "metadata": {},
   "outputs": [],
   "source": [
    "startTime_seconds_RESP = startNum_RESP/record_resp_0.fs\n",
    "endTime_seconds_RESP = endNum_RESP/record_resp_0.fs\n",
    "startTime_minutes_RESP = (startTime_seconds_RESP)/60\n",
    "endTime_minutes_RESP = (endTime_seconds_RESP)/60\n",
    "startTime_hours_RESP = startTime_minutes_RESP/60\n",
    "endTime_hours_RESP = endTime_minutes_RESP/60"
   ]
  },
  {
   "cell_type": "code",
   "execution_count": 14,
   "metadata": {},
   "outputs": [],
   "source": [
    "# Generate Timestamp array - ECG\n",
    "start = startTime_seconds_ECG\n",
    "stop = endTime_seconds_ECG\n",
    "step = 1/record_ecg_0.fs\n",
    "time_array_seconds_ECG = np.arange(start=start, stop=stop, step=step)\n",
    "time_array_minutes_ECG = time_array_seconds_ECG/60"
   ]
  },
  {
   "cell_type": "code",
   "execution_count": 15,
   "metadata": {},
   "outputs": [],
   "source": [
    "# Generate Timestamp array - RESP\n",
    "start = startTime_seconds_RESP\n",
    "stop = endTime_seconds_RESP\n",
    "step = 1/record_resp_0.fs\n",
    "time_array_seconds_RESP = np.arange(start=start, stop=stop, step=step)\n",
    "time_array_minutes_RESP = time_array_seconds_RESP/60"
   ]
  },
  {
   "attachments": {},
   "cell_type": "markdown",
   "metadata": {},
   "source": [
    "### Interquartile (IQR) Smoothing"
   ]
  },
  {
   "cell_type": "code",
   "execution_count": 11,
   "metadata": {},
   "outputs": [
    {
     "name": "stdout",
     "output_type": "stream",
     "text": [
      "ECG DATA\n",
      "-----------------------------------------------------------------------------------\n",
      "{'fs': 250, 'sig_len': 41052191, 'n_sig': 1, 'base_date': None, 'base_time': None, 'units': ['mV'], 'sig_name': ['ECG'], 'comments': []}\n",
      "(41052191, 1)\n",
      "Start time: 0.0 seconds, End time: 164208.764 seconds\n",
      "Start time: 0.0 minutes, End time: 2736.812733333333 minutes\n",
      "Start time: 0.0 hours, End time: 45.613545555555554 hours\n",
      "                ECG\n",
      "count  4.105219e+07\n",
      "mean  -1.884517e-01\n",
      "std    2.565324e+00\n",
      "min   -4.095997e+01\n",
      "25%   -1.273949e-01\n",
      "50%   -5.245674e-02\n",
      "75%    8.742790e-03\n",
      "max    4.089003e+01\n",
      "25th percentile: -0.11740318639741702, 75th percentile: 0.008742790476403396\n",
      "10th percentile: -0.20857800136562385, 90th percentile: 0.05870159319870851\n",
      "5th percentile: -0.2497940136115256, 95th percentile: 0.3172383972866375\n"
     ]
    }
   ],
   "source": [
    "# ECG DATA - Description with IQR\n",
    "print(\"ECG DATA\")\n",
    "print(\"-----------------------------------------------------------------------------------\")\n",
    "print(signal_ecg_0[1])\n",
    "print(signal_ecg_0[0].shape)\n",
    "print(f\"Start time: {startTime_seconds_ECG} seconds, End time: {endTime_seconds_ECG} seconds\")\n",
    "print(f\"Start time: {startTime_minutes_ECG} minutes, End time: {endTime_minutes_ECG} minutes\")\n",
    "print(f\"Start time: {startTime_hours_ECG} hours, End time: {endTime_hours_ECG} hours\")\n",
    "print(dataframe_ecg_0.describe())\n",
    "q75_ECG, q25_ECG = np.percentile(signal_ecg_0[0], [75, 27])\n",
    "q90_ECG, q10_ECG = np.percentile(signal_ecg_0[0], [90, 10])\n",
    "q95_ECG, q5_ECG = np.percentile(signal_ecg_0[0], [95, 5])\n",
    "print(f\"25th percentile: {q25_ECG}, 75th percentile: {q75_ECG}\")\n",
    "print(f\"10th percentile: {q10_ECG}, 90th percentile: {q90_ECG}\")\n",
    "print(f\"5th percentile: {q5_ECG}, 95th percentile: {q95_ECG}\")"
   ]
  },
  {
   "cell_type": "code",
   "execution_count": 16,
   "metadata": {},
   "outputs": [
    {
     "name": "stdout",
     "output_type": "stream",
     "text": [
      "RESP DATA\n",
      "-----------------------------------------------------------------------------------\n",
      "{'fs': 500, 'sig_len': 82122000, 'n_sig': 1, 'base_date': None, 'base_time': None, 'units': ['NU'], 'sig_name': ['RESP'], 'comments': []}\n",
      "(82122000, 1)\n",
      "Start time: 0.0 seconds, End time: 164244.0 seconds\n",
      "Start time: 0.0 minutes, End time: 2737.4 minutes\n",
      "Start time: 0.0 hours, End time: 45.623333333333335 hours\n",
      "               RESP\n",
      "count  8.212200e+07\n",
      "mean   2.429525e+01\n",
      "std    1.876535e+00\n",
      "min   -5.579915e-01\n",
      "25%    2.388994e+01\n",
      "50%    2.417714e+01\n",
      "75%    2.460235e+01\n",
      "max    4.832892e+01\n",
      "25th percentile: 23.933954698105357, 75th percentile: 24.602350889649504\n",
      "10th percentile: 23.373725300951726, 90th percentile: 25.36175638406015\n",
      "5th percentile: 22.89779140563346, 95th percentile: 26.255437899093508\n"
     ]
    }
   ],
   "source": [
    "# RESP DATA - Description with IQR \n",
    "print(\"RESP DATA\")\n",
    "print(\"-----------------------------------------------------------------------------------\")\n",
    "print(signal_resp_0[1])\n",
    "print(signal_resp_0[0].shape)\n",
    "print(f\"Start time: {startTime_seconds_RESP} seconds, End time: {endTime_seconds_RESP} seconds\")\n",
    "print(f\"Start time: {startTime_minutes_RESP} minutes, End time: {endTime_minutes_RESP} minutes\")\n",
    "print(f\"Start time: {startTime_hours_RESP} hours, End time: {endTime_hours_RESP} hours\")\n",
    "print(dataframe_resp_0.describe())\n",
    "q75_RESP, q25_RESP = np.percentile(signal_resp_0[0], [75, 27])\n",
    "q90_RESP, q10_RESP = np.percentile(signal_resp_0[0], [90, 10])\n",
    "q95_RESP, q5_RESP = np.percentile(signal_resp_0[0], [95, 5])\n",
    "print(f\"25th percentile: {q25_RESP}, 75th percentile: {q75_RESP}\")\n",
    "print(f\"10th percentile: {q10_RESP}, 90th percentile: {q90_RESP}\")\n",
    "print(f\"5th percentile: {q5_RESP}, 95th percentile: {q95_RESP}\")"
   ]
  },
  {
   "cell_type": "code",
   "execution_count": 17,
   "metadata": {},
   "outputs": [
    {
     "name": "stdout",
     "output_type": "stream",
     "text": [
      "ECG\n",
      "Percentiles: 25th=-0.117, 75th=0.009, IQR=0.126\n",
      "Percentiles: 10th=-0.209, 90th=0.059, IQR=0.267\n",
      "Percentiles: 5th=-0.250, 95th=0.317, IQR=0.567\n",
      "--------------------------------\n",
      "RESP\n",
      "Percentiles: 25th=23.934, 75th=24.602, IQR=0.668\n",
      "Percentiles: 10th=23.374, 90th=25.362, IQR=1.988\n",
      "Percentiles: 5th=22.898, 95th=26.255, IQR=3.358\n"
     ]
    }
   ],
   "source": [
    "# Interquartile \n",
    "iqr1_ECG = q75_ECG-q25_ECG\n",
    "iqr2_ECG = q90_ECG-q10_ECG\n",
    "iqr3_ECG = q95_ECG-q5_ECG\n",
    "decimal_ECG = 3\n",
    "print(f\"ECG\")\n",
    "print(f\"Percentiles: 25th={q25_ECG:.{decimal_ECG}f}, 75th={q75_ECG:.{decimal_ECG}f}, IQR={iqr1_ECG:.{decimal_ECG}f}\")\n",
    "print(f\"Percentiles: 10th={q10_ECG:.{decimal_ECG}f}, 90th={q90_ECG:.{decimal_ECG}f}, IQR={iqr2_ECG:.{decimal_ECG}f}\")\n",
    "print(f\"Percentiles: 5th={q5_ECG:.{decimal_ECG}f}, 95th={q95_ECG:.{decimal_ECG}f}, IQR={iqr3_ECG:.{decimal_ECG}f}\")\n",
    "print(\"--------------------------------\")\n",
    "iqr1_RESP = q75_RESP-q25_RESP\n",
    "iqr2_RESP = q90_RESP-q10_RESP\n",
    "iqr3_RESP = q95_RESP-q5_RESP\n",
    "decimal_RESP = 3\n",
    "print(f\"RESP\")\n",
    "print(f\"Percentiles: 25th={q25_RESP:.{decimal_RESP}f}, 75th={q75_RESP:.{decimal_RESP}f}, IQR={iqr1_RESP:.{decimal_RESP}f}\")\n",
    "print(f\"Percentiles: 10th={q10_RESP:.{decimal_RESP}f}, 90th={q90_RESP:.{decimal_RESP}f}, IQR={iqr2_RESP:.{decimal_RESP}f}\")\n",
    "print(f\"Percentiles: 5th={q5_RESP:.{decimal_RESP}f}, 95th={q95_RESP:.{decimal_RESP}f}, IQR={iqr3_RESP:.{decimal_RESP}f}\")"
   ]
  },
  {
   "cell_type": "code",
   "execution_count": 18,
   "metadata": {},
   "outputs": [
    {
     "name": "stdout",
     "output_type": "stream",
     "text": [
      "ECG DATA\n",
      "Identified outliers: 3490340\n",
      "<map object at 0x000001F86BCCB460>\n",
      "ECG Data Shape: (41052191,)\n",
      "[-0.01998352 -0.01998352 -0.01498764 ... -0.30662215 -0.07868511\n",
      "  0.19796176]\n"
     ]
    }
   ],
   "source": [
    "# ECG DATA - Remove Outlier\n",
    "# calculate the outlier cutoff\n",
    "print(\"ECG DATA\")\n",
    "cut_off_ECG = iqr1_ECG * 1.5\n",
    "lower_ECG, upper_ECG = q25_ECG - cut_off_ECG, q75_ECG + cut_off_ECG\n",
    "\n",
    "# identify outliers\n",
    "signals_ECG_outliers = [x for x in signal_ecg_0[0] if x < lower_ECG or x > upper_ECG]\n",
    "print('Identified outliers: %d' % len(signals_ECG_outliers))\n",
    "\n",
    "signal_ecg_1 = []\n",
    "signal_ecg_1 = map(functools.partial(iqr_remove_outlier, lower=lower_ECG, upper=upper_ECG), signal_ecg_0[0])\n",
    "print(signal_ecg_1)\n",
    "signal_ecg_1 = np.fromiter(signal_ecg_1, dtype=np.float64)\n",
    "print(f\"ECG Data Shape: {signal_ecg_1.shape}\")\n",
    "print(signal_ecg_1)"
   ]
  },
  {
   "cell_type": "code",
   "execution_count": 21,
   "metadata": {},
   "outputs": [
    {
     "name": "stdout",
     "output_type": "stream",
     "text": [
      "RESP DATA\n",
      "Identified outliers: 3490340\n",
      "<map object at 0x000001F86BBEE6E0>\n",
      "RESP Data Shape: (82122000,)\n",
      "[23.26555851 23.26555851 23.26555851 ... 24.17565154 24.17714349\n",
      " 24.17266762]\n"
     ]
    }
   ],
   "source": [
    "# RESP DATA - Remove Outlier\n",
    "# calculate the outlier cutoff\n",
    "print(\"RESP DATA\")\n",
    "cut_off_RESP = iqr1_RESP * 1\n",
    "lower_RESP, upper_RESP = q25_RESP - cut_off_RESP, q75_RESP + cut_off_RESP\n",
    "# identify outliers\n",
    "signals_RESP_outliers = [x for x in signal_resp_0[0] if x < lower_RESP or x > upper_RESP]\n",
    "print('Identified outliers: %d' % len(signals_ECG_outliers))\n",
    "signal_resp_1 =[]\n",
    "signal_resp_1 = map(functools.partial(iqr_remove_outlier, lower=lower_RESP, upper=upper_RESP), signal_resp_0[0])\n",
    "print(signal_resp_1)\n",
    "signal_resp_1 = np.fromiter(signal_resp_1, dtype=np.float64)\n",
    "print(f\"RESP Data Shape: {signal_resp_1.shape}\")\n",
    "print(signal_resp_1)"
   ]
  },
  {
   "attachments": {},
   "cell_type": "markdown",
   "metadata": {},
   "source": [
    "### Data Normalization (-1,1)"
   ]
  },
  {
   "cell_type": "code",
   "execution_count": 22,
   "metadata": {},
   "outputs": [
    {
     "name": "stdout",
     "output_type": "stream",
     "text": [
      "(41052191,)\n",
      "(41052191, 1)\n",
      "(82122000,)\n",
      "(82122000, 1)\n"
     ]
    }
   ],
   "source": [
    "# Reshape the data\n",
    "print(signal_ecg_1.shape)\n",
    "signal_ecg_2 = signal_ecg_1.reshape((-1,1))\n",
    "print(signal_ecg_2.shape)\n",
    "print(signal_resp_1.shape)\n",
    "signal_resp_2 = signal_resp_1.reshape((-1,1))\n",
    "print(signal_resp_2.shape)"
   ]
  },
  {
   "cell_type": "code",
   "execution_count": 23,
   "metadata": {},
   "outputs": [],
   "source": [
    "# Normalization\n",
    "signal_ecg_3 = scaler.fit_transform(signal_ecg_2)\n",
    "signal_resp_3 = scaler.fit_transform(signal_resp_2)"
   ]
  },
  {
   "attachments": {},
   "cell_type": "markdown",
   "metadata": {},
   "source": [
    "### Heartrate and Respiration Rate Calculation"
   ]
  },
  {
   "cell_type": "code",
   "execution_count": 24,
   "metadata": {},
   "outputs": [
    {
     "ename": "KeyboardInterrupt",
     "evalue": "",
     "output_type": "error",
     "traceback": [
      "\u001b[1;31m---------------------------------------------------------------------------\u001b[0m",
      "\u001b[1;31mKeyboardInterrupt\u001b[0m                         Traceback (most recent call last)",
      "Cell \u001b[1;32mIn[24], line 3\u001b[0m\n\u001b[0;32m      1\u001b[0m ECG_qrs_inds_1 \u001b[39m=\u001b[39m processing\u001b[39m.\u001b[39mqrs\u001b[39m.\u001b[39mgqrs_detect(sig\u001b[39m=\u001b[39msignal_ecg_3, fs\u001b[39m=\u001b[39mrecord_ecg_0\u001b[39m.\u001b[39mfs)\n\u001b[0;32m      2\u001b[0m ECG_hrs_1 \u001b[39m=\u001b[39m processing\u001b[39m.\u001b[39mhr\u001b[39m.\u001b[39mcompute_hr(sig_len\u001b[39m=\u001b[39msignal_ecg_3\u001b[39m.\u001b[39mshape[\u001b[39m0\u001b[39m], qrs_inds\u001b[39m=\u001b[39mECG_qrs_inds_1, fs\u001b[39m=\u001b[39mrecord_ecg_0\u001b[39m.\u001b[39mfs)\n\u001b[1;32m----> 3\u001b[0m RESP_peaks_inds_1 \u001b[39m=\u001b[39m processing\u001b[39m.\u001b[39;49mpeaks\u001b[39m.\u001b[39;49mfind_local_peaks(sig\u001b[39m=\u001b[39;49msignal_resp_3, radius\u001b[39m=\u001b[39;49mrecord_resp_0\u001b[39m.\u001b[39;49mfs)\n\u001b[0;32m      4\u001b[0m RESP_rrs_1 \u001b[39m=\u001b[39m processing\u001b[39m.\u001b[39mhr\u001b[39m.\u001b[39mcompute_hr(sig_len\u001b[39m=\u001b[39msignal_resp_3\u001b[39m.\u001b[39mshape[\u001b[39m0\u001b[39m], qrs_inds\u001b[39m=\u001b[39mRESP_peaks_inds_1, fs\u001b[39m=\u001b[39mrecord_resp_0\u001b[39m.\u001b[39mfs)\n",
      "File \u001b[1;32me:\\UniMalaya\\MCS-AC\\WOA7015AdvancedMachineLearning\\FinalExamAssessment\\mcs_aml_venv_1\\lib\\site-packages\\wfdb\\processing\\peaks.py:93\u001b[0m, in \u001b[0;36mfind_local_peaks\u001b[1;34m(sig, radius)\u001b[0m\n\u001b[0;32m     90\u001b[0m         i \u001b[39m+\u001b[39m\u001b[39m=\u001b[39m \u001b[39m1\u001b[39m\n\u001b[0;32m     92\u001b[0m \u001b[39mwhile\u001b[39;00m i \u001b[39m<\u001b[39m \u001b[39mlen\u001b[39m(sig):\n\u001b[1;32m---> 93\u001b[0m     \u001b[39mif\u001b[39;00m sig[i] \u001b[39m==\u001b[39;49m \u001b[39mmax\u001b[39;49m(sig[i \u001b[39m-\u001b[39;49m radius : i \u001b[39m+\u001b[39;49m radius]):\n\u001b[0;32m     94\u001b[0m         peak_inds\u001b[39m.\u001b[39mappend(i)\n\u001b[0;32m     95\u001b[0m         i \u001b[39m+\u001b[39m\u001b[39m=\u001b[39m radius\n",
      "\u001b[1;31mKeyboardInterrupt\u001b[0m: "
     ]
    }
   ],
   "source": [
    "ECG_qrs_inds_1 = processing.qrs.gqrs_detect(sig=signal_ecg_3, fs=record_ecg_0.fs)\n",
    "ECG_hrs_1 = processing.hr.compute_hr(sig_len=signal_ecg_3.shape[0], qrs_inds=ECG_qrs_inds_1, fs=record_ecg_0.fs)\n",
    "RESP_peaks_inds_1 = processing.peaks.find_local_peaks(sig=signal_resp_3, radius=record_resp_0.fs)\n",
    "RESP_rrs_1 = processing.hr.compute_hr(sig_len=signal_resp_3.shape[0], qrs_inds=RESP_peaks_inds_1, fs=record_resp_0.fs)"
   ]
  },
  {
   "cell_type": "code",
   "execution_count": null,
   "metadata": {},
   "outputs": [],
   "source": [
    "np.save(file='../data/infant_1_hrs_1.npy', arr=ECG_hrs_1)\n",
    "np.save(file='../data/infant_1_rrs_1.npy', arr=RESP_rrs_1)"
   ]
  },
  {
   "attachments": {},
   "cell_type": "markdown",
   "metadata": {},
   "source": [
    "### Data Resampling"
   ]
  },
  {
   "cell_type": "code",
   "execution_count": null,
   "metadata": {},
   "outputs": [],
   "source": [
    "RESP_rrs_2 = pd.DataFrame(RESP_rrs_1).fillna(0).to_numpy().reshape(RESP_rrs_1.shape[0])\n",
    "ECG_hrs_2 = pd.DataFrame(ECG_hrs_1).fillna(0).to_numpy().reshape(ECG_hrs_1.shape[0])\n",
    "print(RESP_rrs_2.shape)\n",
    "print(ECG_hrs_2.shape)"
   ]
  },
  {
   "cell_type": "code",
   "execution_count": null,
   "metadata": {},
   "outputs": [],
   "source": [
    "# Resample the data to same cardinality - downsampling\n",
    "if (RESP_rrs_2.shape[0] < ECG_hrs_2.shape[0]):\n",
    "    ECG_hrs_3 = scipy.signal.resample(ECG_hrs_2, RESP_rrs_2.shape[0])\n",
    "    RESP_rrs_3 = RESP_rrs_2\n",
    "else:\n",
    "    RESP_rrs_3 = scipy.signal.resample(RESP_rrs_2, ECG_hrs_2.shape[0])\n",
    "    ECG_hrs_3 = ECG_hrs_2"
   ]
  },
  {
   "attachments": {},
   "cell_type": "markdown",
   "metadata": {},
   "source": [
    "### Correlation Test"
   ]
  },
  {
   "cell_type": "code",
   "execution_count": null,
   "metadata": {},
   "outputs": [],
   "source": [
    "correlationTest(ECG_hrs_3, RESP_rrs_3, plot=False)"
   ]
  },
  {
   "attachments": {},
   "cell_type": "markdown",
   "metadata": {},
   "source": [
    "### Linear Regression"
   ]
  },
  {
   "cell_type": "code",
   "execution_count": null,
   "metadata": {},
   "outputs": [],
   "source": []
  },
  {
   "attachments": {},
   "cell_type": "markdown",
   "metadata": {},
   "source": [
    "### Polynomial Regression"
   ]
  },
  {
   "attachments": {},
   "cell_type": "markdown",
   "metadata": {},
   "source": [
    "### Support Vector Regression (SVR)"
   ]
  }
 ],
 "metadata": {
  "kernelspec": {
   "display_name": "mcs_aml_venv_1",
   "language": "python",
   "name": "python3"
  },
  "language_info": {
   "codemirror_mode": {
    "name": "ipython",
    "version": 3
   },
   "file_extension": ".py",
   "mimetype": "text/x-python",
   "name": "python",
   "nbconvert_exporter": "python",
   "pygments_lexer": "ipython3",
   "version": "3.10.6 (tags/v3.10.6:9c7b4bd, Aug  1 2022, 21:53:49) [MSC v.1932 64 bit (AMD64)]"
  },
  "orig_nbformat": 4,
  "vscode": {
   "interpreter": {
    "hash": "a14dbdb1f72aaa09167b48d00cde9d80f1c9c9222724b1b54b66fa4b88a3fbfb"
   }
  }
 },
 "nbformat": 4,
 "nbformat_minor": 2
}
