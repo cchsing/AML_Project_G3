{
 "cells": [
  {
   "cell_type": "code",
   "execution_count": 1,
   "metadata": {},
   "outputs": [],
   "source": [
    "from Lib.myModules.my_ML_Modules_1 import *\n",
    "import math\n",
    "import sys\n",
    "import contextlib"
   ]
  },
  {
   "cell_type": "code",
   "execution_count": 2,
   "metadata": {},
   "outputs": [
    {
     "name": "stdout",
     "output_type": "stream",
     "text": [
      "ECG DATA: {'fs': 500, 'sig_len': 87492197, 'n_sig': 1, 'base_date': None, 'base_time': None, 'units': ['mV'], 'sig_name': ['II'], 'comments': []}\n",
      "RESP DATA: {'fs': 50, 'sig_len': 8749057, 'n_sig': 1, 'base_date': None, 'base_time': None, 'units': ['NU'], 'sig_name': ['RESP'], 'comments': []}\n",
      "174984.394 sec, 2916.4065666666665 minutes, 48.60677611111111 hours\n",
      "174981.14 sec, 2916.3523333333337 minutes, 48.605872222222224 hours\n"
     ]
    }
   ],
   "source": [
    "data_dir = \"../data\"\n",
    "infantNum = 6\n",
    "ECG_dataset = f\"{data_dir}/infant{infantNum}_ecg\"\n",
    "RESP_dataset = f\"{data_dir}/infant{infantNum}_resp\"\n",
    "# Read all the data\n",
    "signal_ecg_0 = wfdb.rdsamp(f\"{data_dir}/infant{infantNum}_ecg\")\n",
    "signal_resp_0 = wfdb.rdsamp(f\"{data_dir}/infant{infantNum}_resp\")\n",
    "print(f'ECG DATA: {signal_ecg_0[1]}')\n",
    "print(F'RESP DATA: {signal_resp_0[1]}')\n",
    "totalDuration_ECG = num2Time(num=signal_ecg_0[1]['sig_len'], fs=signal_ecg_0[1]['fs'])\n",
    "print(f'{totalDuration_ECG} sec, {secs2minutes(totalDuration_ECG)} minutes, {secs2hours(totalDuration_ECG)} hours')\n",
    "totalDuration_RESP = num2Time(num=signal_resp_0[1]['sig_len'], fs=signal_resp_0[1]['fs'])\n",
    "print(f'{totalDuration_RESP} sec, {secs2minutes(totalDuration_RESP)} minutes, {secs2hours(totalDuration_RESP)} hours')"
   ]
  },
  {
   "cell_type": "code",
   "execution_count": 3,
   "metadata": {},
   "outputs": [
    {
     "name": "stdout",
     "output_type": "stream",
     "text": [
      "start: 3600000, end: 3960000\n",
      "start: 360000, end: 396000\n",
      "90th percentile: 0.05495781300878913, 10th percentile: -0.1473868621599345, IQR: 0.20234467516872362\n",
      "Identified outliers: 24745\n",
      "Data Shape: (360000,)\n",
      "90th percentile: 21.237561922752704, 10th percentile: 19.207829213714092, IQR: 2.029732709038612\n",
      "Identified outliers: 1040\n",
      "Data Shape: (36000,)\n",
      "[[149.68919008   9.61437089]\n",
      " [  9.61437089 102.58690915]]\n",
      "Pearsons correlation: 0.078\n",
      "Spearmans correlation: 0.041\n",
      "---------------------------------------------\n",
      "--- Linear Regression ---\n",
      "Coefficient of determination: 0.006297841564065432\n",
      "Intercept: [139.62411]\n",
      "Coefficients: [[0.06586734]]\n",
      "Mean absolute error: 4.55\n",
      "Mean squared error: 100.61\n",
      "Root mean squared error: 10.03\n",
      "---------------------------------------------\n",
      "--- Polynomial Regression ---\n",
      "Coefficient of determination: 0.011452922932024157\n",
      "Intercept: [140.55786]\n",
      "Coefficients: [[ 7.3383949e-10  1.6478767e-08  6.7856877e-07  1.0872394e-05\n",
      "  -4.5145441e-07  4.7800359e-09]]\n",
      "Mean absolute error: 4.64\n",
      "Mean squared error: 116.93\n",
      "Root mean squared error: 10.81\n",
      "---------------------------------------------\n",
      "--- SVR Radius Basis Function---\n",
      "Coefficient of determination: -0.25160897293344053\n",
      "Intercept: [0.49547079]\n",
      "Mean absolute error: 8.36\n",
      "Mean squared error: 148.23\n",
      "Root mean squared error: 12.17\n"
     ]
    }
   ],
   "source": [
    "# initialize the training\n",
    "start_time_secs = hours2secs(2)\n",
    "end_time_secs = hours2secs(2.2)\n",
    "lr_model, pr_model, svr_rbf_model = training_pipeline(start_time_secs=start_time_secs, \n",
    "                                                        end_time_secs=end_time_secs, \n",
    "                                                        signal_ecg_0=signal_ecg_0,\n",
    "                                                        signal_resp_0=signal_resp_0,\n",
    "                                                        ECG_dataset=ECG_dataset,\n",
    "                                                        RESP_dataset=RESP_dataset)"
   ]
  },
  {
   "cell_type": "code",
   "execution_count": 4,
   "metadata": {},
   "outputs": [],
   "source": [
    "step = 0.25\n",
    "startHrs = 10\n",
    "endHrs = 12\n",
    "logFilePath = f\"../logs/infant{infantNum}_step{step}_startHrs{startHrs}_endHrs{endHrs}.log\"\n",
    "\n",
    "with open(logFilePath, 'a') as f:\n",
    "    with contextlib.redirect_stdout(f):\n",
    "        for i in np.arange(startHrs, endHrs, step):\n",
    "            print(\"-------------------------------------------------------------------------\")\n",
    "            print(f\"Data bin index: {i:.3f}\")\n",
    "            start_time_secs = hours2secs(i)\n",
    "            end_time_secs = hours2secs(i+step)\n",
    "            lr_model, pr_model, svr_rbf_model = cascade_training_pipeline(lr_model=lr_model, \n",
    "                                                                            pr_model=pr_model, \n",
    "                                                                            svr_rbf_model=svr_rbf_model, \n",
    "                                                                            start_time_secs=start_time_secs, \n",
    "                                                                            end_time_secs=end_time_secs,\n",
    "                                                                            signal_ecg_0=signal_ecg_0,\n",
    "                                                                            signal_resp_0=signal_resp_0,\n",
    "                                                                            ECG_dataset=ECG_dataset,\n",
    "                                                                            RESP_dataset=RESP_dataset)"
   ]
  },
  {
   "cell_type": "code",
   "execution_count": 5,
   "metadata": {},
   "outputs": [],
   "source": [
    "# save the model\n",
    "for i in [lr_model, pr_model, svr_rbf_model]:\n",
    "    filename = f\"../models/infant_{infantNum}/{namestr(i, globals())[0]}_step{step}_startHrs{startHrs}_endHrs{endHrs}.sav\"\n",
    "    joblib.dump(i, filename)\n"
   ]
  }
 ],
 "metadata": {
  "kernelspec": {
   "display_name": "mcs_aml_venv_1",
   "language": "python",
   "name": "python3"
  },
  "language_info": {
   "codemirror_mode": {
    "name": "ipython",
    "version": 3
   },
   "file_extension": ".py",
   "mimetype": "text/x-python",
   "name": "python",
   "nbconvert_exporter": "python",
   "pygments_lexer": "ipython3",
   "version": "3.10.6"
  },
  "orig_nbformat": 4,
  "vscode": {
   "interpreter": {
    "hash": "a14dbdb1f72aaa09167b48d00cde9d80f1c9c9222724b1b54b66fa4b88a3fbfb"
   }
  }
 },
 "nbformat": 4,
 "nbformat_minor": 2
}
