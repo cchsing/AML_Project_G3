{
 "cells": [
  {
   "attachments": {},
   "cell_type": "markdown",
   "metadata": {},
   "source": [
    "# Version 3 for Infant 1 processing\n",
    "1. Read the data\n",
    "1. Perform interquartile range smoothing for outlier\n",
    "1. Normalize the data to (-1, 1)\n",
    "1. Frequency filtering for ECG and RESP - no use\n",
    "1. Calculate the Heart rate (BPM) and respiration rate (BPM)\n",
    "1. Correlation test\n",
    "1. Linear Regression\n"
   ]
  },
  {
   "cell_type": "code",
   "execution_count": 2,
   "metadata": {},
   "outputs": [],
   "source": [
    "# Import of libraries/modules\n",
    "### -------------------------------------------\n",
    "import wfdb\n",
    "from wfdb import processing\n",
    "### ------------------------------------------- \n",
    "import scipy\n",
    "from scipy.signal import butter, lfilter, filtfilt\n",
    "### -------------------------------------------\n",
    "import matplotlib.pyplot as plt\n",
    "### -------------------------------------------\n",
    "import numpy as np\n",
    "### -------------------------------------------\n",
    "import pandas as pd\n",
    "### -------------------------------------------\n",
    "import sklearn\n",
    "from sklearn.preprocessing import MinMaxScaler\n",
    "from sklearn import preprocessing, svm\n",
    "from sklearn.model_selection import train_test_split\n",
    "from sklearn.linear_model import LinearRegression\n",
    "from sklearn.metrics import mean_absolute_error, mean_squared_error\n",
    "import joblib\n",
    "### -------------------------------------------\n",
    "import functools\n",
    "### -------------------------------------------\n",
    "import seaborn as sns\n",
    "### -------------------------------------------\n",
    "scaler = MinMaxScaler(feature_range=(-1,1))\n",
    "data_dir = \"../data\""
   ]
  },
  {
   "cell_type": "code",
   "execution_count": 45,
   "metadata": {},
   "outputs": [],
   "source": [
    "# Read all the data\n",
    "signal_ecg_0 = wfdb.rdsamp(f\"{data_dir}/infant1_ecg\")\n",
    "record_ecg_0 = wfdb.rdrecord(f\"{data_dir}/infant1_ecg\")\n",
    "dataframe_ecg_0 = record_ecg_0.to_dataframe()\n",
    "annotation_ecg_0 = wfdb.rdann(f\"{data_dir}/infant1_ecg\", 'qrsc',shift_samps=True)\n",
    "signal_resp_0 = wfdb.rdsamp(f\"{data_dir}/infant1_resp\")\n",
    "record_resp_0 = wfdb.rdrecord(f\"{data_dir}/infant1_resp\")\n",
    "annotation_resp_0 = wfdb.rdann(f\"{data_dir}/infant1_resp\", 'resp',shift_samps=True)\n",
    "dataframe_resp_0 = record_resp_0.to_dataframe()"
   ]
  },
  {
   "cell_type": "code",
   "execution_count": 46,
   "metadata": {},
   "outputs": [],
   "source": [
    "# Some Custom Function\n",
    "def startTime_num(time, fs):\n",
    "    n = time * fs\n",
    "    return n\n",
    "\n",
    "\n",
    "def iqr_remove_outlier(x, lower, upper):\n",
    "    if (x < lower):\n",
    "        return lower\n",
    "    elif (x > upper): \n",
    "        return upper\n",
    "    else:\n",
    "        return x\n",
    "\n",
    "\n",
    "def correlationTest(signal_1, signal_2, plot=True):\n",
    "    # Inspect by scatter plot\n",
    "    if plot: \n",
    "        plt.scatter(signal_1, signal_2)\n",
    "    # Covariance\n",
    "    covariance = np.cov(signal_1, signal_2)\n",
    "    print(covariance)\n",
    "    # calculate Pearson's correlation - 0 is no correlation -1 or 1 is highly correlated\n",
    "    corr, _ = scipy.stats.pearsonr(signal_1, signal_2)\n",
    "    print('Pearsons correlation: %.3f' % corr)\n",
    "    # calculate spearman's correlation - 0 is no correlation -1 or 1 is highly correlated\n",
    "    corr, _ = scipy.stats.spearmanr(signal_1, signal_2)\n",
    "    print('Spearmans correlation: %.3f' % corr)\n",
    "\n",
    "\n",
    "def peaks_hr(sig, peak_inds, fs, title, figsize=(20, 10), saveto=None):\n",
    "    \"Plot a signal with its peaks and heart rate\"\n",
    "    # Calculate heart rate\n",
    "    hrs = processing.hr.compute_hr(sig_len=sig.shape[0], qrs_inds=peak_inds, fs=fs)\n",
    "    \n",
    "    N = sig.shape[0]\n",
    "    \n",
    "    fig, ax_left = plt.subplots(figsize=figsize)\n",
    "    ax_right = ax_left.twinx()\n",
    "    \n",
    "    ax_left.plot(sig, color='#3979f0', label='Signal')\n",
    "    ax_left.plot(peak_inds, sig[peak_inds], 'rx', marker='x', \n",
    "                 color='#8b0000', label='Peak', markersize=12)\n",
    "    ax_right.plot(np.arange(N), hrs, label='Heart rate', color='m', linewidth=2)\n",
    "\n",
    "    ax_left.set_title(title)\n",
    "\n",
    "    ax_left.set_xlabel('Time (ms)')\n",
    "    ax_left.set_ylabel('ECG (mV)', color='#3979f0')\n",
    "    ax_right.set_ylabel('Heart rate (bpm)', color='m')\n",
    "    # Make the y-axis label, ticks and tick labels match the line color.\n",
    "    ax_left.tick_params('y', colors='#3979f0')\n",
    "    ax_right.tick_params('y', colors='m')\n",
    "    if saveto is not None:\n",
    "        plt.savefig(saveto, dpi=600)\n",
    "    plt.show()\n",
    "\n",
    "\n",
    "def butter_bandpass(lowcut, highcut, fs, order=5):\n",
    "    nyq = 0.5 * fs\n",
    "    low = lowcut / nyq\n",
    "    high = highcut / nyq\n",
    "    b, a = butter(order, [low, high], btype='band', analog=False)\n",
    "    return b, a\n",
    "\n",
    "\n",
    "def butter_bandpass_filter(data, lowcut, highcut, fs, order=5):\n",
    "    b, a = butter_bandpass(lowcut, highcut, fs, order=order)\n",
    "    y = lfilter(b, a, data)\n",
    "    return y\n",
    "\n",
    "\n",
    "def butter_lowpass(cutoff, fs, order=5):\n",
    "    nyq = 0.5 * fs\n",
    "    normal_cutoff = cutoff / nyq\n",
    "    b, a = butter(order, normal_cutoff, btype='low', analog=False)\n",
    "    return b, a\n",
    "\n",
    "\n",
    "def butter_lowpass_filter(data, cutoff, fs, order=5):\n",
    "    b, a = butter_lowpass(cutoff, fs, order=order)\n",
    "    y = lfilter(b, a, data)\n",
    "    return y\n",
    "\n",
    "\n",
    "def butter_highpass(cutoff, fs, order=5):\n",
    "    nyq = 0.5 * fs\n",
    "    normal_cutoff = cutoff / nyq\n",
    "    b, a = butter(order, normal_cutoff, btype='high', analog=False)\n",
    "    return b, a\n",
    "\n",
    "\n",
    "def butter_highpass_filter(data, cutoff, fs, order=5):\n",
    "    b, a = butter_highpass(cutoff, fs, order=order)\n",
    "    y = filtfilt(b, a, data)\n",
    "    return y\n",
    "\n",
    "\n",
    "def peaks_rr(sig, peak_inds, fs, title, figsize=(20, 10), saveto=None):\n",
    "    \"Plot a signal with its peaks and heart rate\"\n",
    "    # Calculate heart rate\n",
    "    hrs = processing.hr.compute_hr(sig_len=sig.shape[0], qrs_inds=peak_inds, fs=fs)\n",
    "    \n",
    "    N = sig.shape[0]\n",
    "    \n",
    "    fig, ax_left = plt.subplots(figsize=figsize)\n",
    "    ax_right = ax_left.twinx()\n",
    "    \n",
    "    ax_left.plot(sig, color='#3979f0', label='Signal')\n",
    "    ax_left.plot(peak_inds, sig[peak_inds], 'rx', marker='x', \n",
    "                 color='#8b0000', label='Peak', markersize=12)\n",
    "    ax_right.plot(np.arange(N), hrs, label='Repiration rate', color='m', linewidth=2)\n",
    "\n",
    "    ax_left.set_title(title)\n",
    "\n",
    "    ax_left.set_xlabel('Time (ms)')\n",
    "    ax_left.set_ylabel('RESP (NU)', color='#3979f0')\n",
    "    ax_right.set_ylabel('Repiration rate (bpm)', color='m')\n",
    "    # Make the y-axis label, ticks and tick labels match the line color.\n",
    "    ax_left.tick_params('y', colors='#3979f0')\n",
    "    ax_right.tick_params('y', colors='m')\n",
    "    if saveto is not None:\n",
    "        plt.savefig(saveto, dpi=600)\n",
    "    plt.show()"
   ]
  },
  {
   "cell_type": "code",
   "execution_count": 47,
   "metadata": {},
   "outputs": [],
   "source": [
    "# Start and end time defined\n",
    "start_time_secs = 48000\n",
    "end_time_secs = 50000\n",
    "\n",
    "ECG_startNum = startTime_num(start_time_secs, record_ecg_0.fs)\n",
    "ECG_endNum = startTime_num(end_time_secs, record_ecg_0.fs)\n",
    "\n",
    "RESP_startNum = startTime_num(start_time_secs, record_resp_0.fs)\n",
    "RESP_endNum = startTime_num(end_time_secs, record_resp_0.fs)"
   ]
  },
  {
   "attachments": {},
   "cell_type": "markdown",
   "metadata": {},
   "source": [
    "### Read data into smaller bin"
   ]
  },
  {
   "cell_type": "code",
   "execution_count": 48,
   "metadata": {},
   "outputs": [],
   "source": [
    "# ECG data bin - make the data handling more convenient by reading a smaller portion of data\n",
    "duration_ECG = 30000\n",
    "kth_ECG = 0\n",
    "# startNum_ECG = duration_ECG*kth_ECG\n",
    "startNum_ECG = ECG_startNum\n",
    "# endNum_ECG = duration_ECG*(kth_ECG+1)\n",
    "endNum_ECG = ECG_endNum\n",
    "signals_ECG = wfdb.rdsamp(f\"{data_dir}/infant1_ecg\")\n",
    "record_ECG = wfdb.rdrecord(f\"{data_dir}/infant1_ecg\")\n",
    "dataframe_ECG = record_ECG.to_dataframe()\n",
    "annotation_ECG = wfdb.rdann(f\"{data_dir}/infant1_ecg\", 'qrsc', shift_samps=True)\n",
    "startTime_seconds_ECG = startNum_ECG/record_ECG.fs\n",
    "endTime_seconds_ECG = endNum_ECG/record_ECG.fs\n",
    "startTime_minutes_ECG = (startTime_seconds_ECG)/60\n",
    "endTime_minutes_ECG = (endTime_seconds_ECG)/60\n",
    "startTime_hours_ECG = startTime_minutes_ECG/60\n",
    "endTime_hours_ECG = endTime_minutes_ECG/60"
   ]
  },
  {
   "cell_type": "code",
   "execution_count": 49,
   "metadata": {},
   "outputs": [],
   "source": [
    "# Generate Timestamp array\n",
    "start = startTime_seconds_ECG\n",
    "stop = endTime_seconds_ECG\n",
    "step = 1/record_ECG.fs\n",
    "time_array_seconds_ECG = np.arange(start=start, stop=stop, step=step)\n",
    "time_array_minutes_ECG = time_array_seconds_ECG/60"
   ]
  },
  {
   "cell_type": "code",
   "execution_count": 50,
   "metadata": {},
   "outputs": [],
   "source": [
    "# RESP data bin - make the data handling more convenient by reading a smaller portion of data\n",
    "duration_RESP = 60000\n",
    "kth_RESP = 400\n",
    "# startNum_RESP = duration_RESP*kth_RESP\n",
    "startNum_RESP = RESP_startNum\n",
    "# endNum_RESP = duration_RESP*(kth_RESP+1)\n",
    "endNum_RESP = RESP_endNum\n",
    "signals_RESP = wfdb.rdsamp(f\"{data_dir}/infant1_resp\", sampfrom=startNum_RESP, sampto=endNum_RESP)\n",
    "record_RESP = wfdb.rdrecord(f\"{data_dir}/infant1_resp\", sampfrom=startNum_RESP, sampto=endNum_RESP)\n",
    "dataframe_RESP = record_RESP.to_dataframe()\n",
    "annotation_RESP = wfdb.rdann(f\"{data_dir}/infant1_resp\", 'resp', sampfrom=startNum_RESP, sampto=endNum_RESP, shift_samps=True)\n",
    "startTime_seconds_RESP = startNum_RESP/record_RESP.fs\n",
    "endTime_seconds_RESP = endNum_RESP/record_RESP.fs\n",
    "startTime_minutes_RESP = (startTime_seconds_RESP)/60\n",
    "endTime_minutes_RESP = (endTime_seconds_RESP)/60\n",
    "startTime_hours_RESP = startTime_minutes_RESP/60\n",
    "endTime_hours_RESP = endTime_minutes_RESP/60"
   ]
  },
  {
   "cell_type": "code",
   "execution_count": 51,
   "metadata": {},
   "outputs": [],
   "source": [
    "# Generate Timestamp array\n",
    "start = startTime_seconds_RESP\n",
    "stop = endTime_seconds_RESP\n",
    "step = 1/record_RESP.fs\n",
    "time_array_seconds_RESP = np.arange(start=start, stop=stop, step=step)\n",
    "time_array_minutes_RESP = time_array_seconds_RESP/60"
   ]
  },
  {
   "attachments": {},
   "cell_type": "markdown",
   "metadata": {},
   "source": [
    "### Remove outlier with IQR"
   ]
  },
  {
   "cell_type": "code",
   "execution_count": 52,
   "metadata": {},
   "outputs": [
    {
     "name": "stdout",
     "output_type": "stream",
     "text": [
      "ECG DATA\n",
      "-----------------------------------------------------------------------------------\n",
      "{'fs': 250, 'sig_len': 41052191, 'n_sig': 1, 'base_date': None, 'base_time': None, 'units': ['mV'], 'sig_name': ['ECG'], 'comments': []}\n",
      "(41052191, 1)\n",
      "Start time: 48000.0 seconds, End time: 50000.0 seconds\n",
      "Start time: 800.0 minutes, End time: 833.3333333333334 minutes\n",
      "Start time: 13.333333333333334 hours, End time: 13.88888888888889 hours\n",
      "                ECG\n",
      "count  4.105219e+07\n",
      "mean  -1.884517e-01\n",
      "std    2.565324e+00\n",
      "min   -4.095997e+01\n",
      "25%   -1.273949e-01\n",
      "50%   -5.245674e-02\n",
      "75%    8.742790e-03\n",
      "max    4.089003e+01\n",
      "25th percentile: -0.11740318639741702, 75th percentile: 0.008742790476403396\n",
      "10th percentile: -0.20857800136562385, 90th percentile: 0.05870159319870851\n",
      "5th percentile: -0.2497940136115256, 95th percentile: 0.3172383972866375\n"
     ]
    }
   ],
   "source": [
    "# ECG DATA - Description with IQR\n",
    "print(\"ECG DATA\")\n",
    "print(\"-----------------------------------------------------------------------------------\")\n",
    "print(signals_ECG[1])\n",
    "print(signals_ECG[0].shape)\n",
    "print(f\"Start time: {startTime_seconds_ECG} seconds, End time: {endTime_seconds_ECG} seconds\")\n",
    "print(f\"Start time: {startTime_minutes_ECG} minutes, End time: {endTime_minutes_ECG} minutes\")\n",
    "print(f\"Start time: {startTime_hours_ECG} hours, End time: {endTime_hours_ECG} hours\")\n",
    "print(dataframe_ECG.describe())\n",
    "q75_ECG, q25_ECG = np.percentile(signals_ECG[0], [75, 27])\n",
    "q90_ECG, q10_ECG = np.percentile(signals_ECG[0], [90, 10])\n",
    "q95_ECG, q5_ECG = np.percentile(signals_ECG[0], [95, 5])\n",
    "print(f\"25th percentile: {q25_ECG}, 75th percentile: {q75_ECG}\")\n",
    "print(f\"10th percentile: {q10_ECG}, 90th percentile: {q90_ECG}\")\n",
    "print(f\"5th percentile: {q5_ECG}, 95th percentile: {q95_ECG}\")"
   ]
  },
  {
   "cell_type": "code",
   "execution_count": 53,
   "metadata": {},
   "outputs": [
    {
     "name": "stdout",
     "output_type": "stream",
     "text": [
      "RESP DATA\n",
      "-----------------------------------------------------------------------------------\n",
      "{'fs': 500, 'sig_len': 1000000, 'n_sig': 1, 'base_date': None, 'base_time': None, 'units': ['NU'], 'sig_name': ['RESP'], 'comments': []}\n",
      "(1000000, 1)\n",
      "Start time: 48000.0 seconds, End time: 50000.0 seconds\n",
      "Start time: 800.0 minutes, End time: 833.3333333333334 minutes\n",
      "Start time: 13.333333333333334 hours, End time: 13.88888888888889 hours\n",
      "                 RESP\n",
      "count  1000000.000000\n",
      "mean        24.553035\n",
      "std          2.562442\n",
      "min          0.120848\n",
      "25%         23.844437\n",
      "50%         24.177143\n",
      "75%         24.739611\n",
      "max         48.230455\n",
      "25th percentile: 23.886958090887408, 75th percentile: 24.739610821841605\n",
      "10th percentile: 23.22751363405144, 90th percentile: 26.5806842601574\n",
      "5th percentile: 22.098849082928346, 95th percentile: 28.854424876035257\n"
     ]
    }
   ],
   "source": [
    "# RESP DATA - Description with IQR \n",
    "print(\"RESP DATA\")\n",
    "print(\"-----------------------------------------------------------------------------------\")\n",
    "print(signals_RESP[1])\n",
    "print(signals_RESP[0].shape)\n",
    "print(f\"Start time: {startTime_seconds_RESP} seconds, End time: {endTime_seconds_RESP} seconds\")\n",
    "print(f\"Start time: {startTime_minutes_RESP} minutes, End time: {endTime_minutes_RESP} minutes\")\n",
    "print(f\"Start time: {startTime_hours_RESP} hours, End time: {endTime_hours_RESP} hours\")\n",
    "print(dataframe_RESP.describe())\n",
    "q75_RESP, q25_RESP = np.percentile(signals_RESP[0], [75, 27])\n",
    "q90_RESP, q10_RESP = np.percentile(signals_RESP[0], [90, 10])\n",
    "q95_RESP, q5_RESP = np.percentile(signals_RESP[0], [95, 5])\n",
    "print(f\"25th percentile: {q25_RESP}, 75th percentile: {q75_RESP}\")\n",
    "print(f\"10th percentile: {q10_RESP}, 90th percentile: {q90_RESP}\")\n",
    "print(f\"5th percentile: {q5_RESP}, 95th percentile: {q95_RESP}\")"
   ]
  },
  {
   "cell_type": "code",
   "execution_count": 54,
   "metadata": {},
   "outputs": [
    {
     "name": "stdout",
     "output_type": "stream",
     "text": [
      "ECG\n",
      "Percentiles: 25th=-0.117, 75th=0.009, IQR=0.126\n",
      "Percentiles: 10th=-0.209, 90th=0.059, IQR=0.267\n",
      "Percentiles: 5th=-0.250, 95th=0.317, IQR=0.567\n",
      "--------------------------------\n",
      "RESP\n",
      "Percentiles: 25th=23.887, 75th=24.740, IQR=0.853\n",
      "Percentiles: 10th=23.228, 90th=26.581, IQR=3.353\n",
      "Percentiles: 5th=22.099, 95th=28.854, IQR=6.756\n"
     ]
    }
   ],
   "source": [
    "# Interquartile \n",
    "iqr1_ECG = q75_ECG-q25_ECG\n",
    "iqr2_ECG = q90_ECG-q10_ECG\n",
    "iqr3_ECG = q95_ECG-q5_ECG\n",
    "decimal_ECG = 3\n",
    "print(f\"ECG\")\n",
    "print(f\"Percentiles: 25th={q25_ECG:.{decimal_ECG}f}, 75th={q75_ECG:.{decimal_ECG}f}, IQR={iqr1_ECG:.{decimal_ECG}f}\")\n",
    "print(f\"Percentiles: 10th={q10_ECG:.{decimal_ECG}f}, 90th={q90_ECG:.{decimal_ECG}f}, IQR={iqr2_ECG:.{decimal_ECG}f}\")\n",
    "print(f\"Percentiles: 5th={q5_ECG:.{decimal_ECG}f}, 95th={q95_ECG:.{decimal_ECG}f}, IQR={iqr3_ECG:.{decimal_ECG}f}\")\n",
    "print(\"--------------------------------\")\n",
    "iqr1_RESP = q75_RESP-q25_RESP\n",
    "iqr2_RESP = q90_RESP-q10_RESP\n",
    "iqr3_RESP = q95_RESP-q5_RESP\n",
    "decimal_RESP = 3\n",
    "print(f\"RESP\")\n",
    "print(f\"Percentiles: 25th={q25_RESP:.{decimal_RESP}f}, 75th={q75_RESP:.{decimal_RESP}f}, IQR={iqr1_RESP:.{decimal_RESP}f}\")\n",
    "print(f\"Percentiles: 10th={q10_RESP:.{decimal_RESP}f}, 90th={q90_RESP:.{decimal_RESP}f}, IQR={iqr2_RESP:.{decimal_RESP}f}\")\n",
    "print(f\"Percentiles: 5th={q5_RESP:.{decimal_RESP}f}, 95th={q95_RESP:.{decimal_RESP}f}, IQR={iqr3_RESP:.{decimal_RESP}f}\")"
   ]
  },
  {
   "cell_type": "code",
   "execution_count": 55,
   "metadata": {},
   "outputs": [
    {
     "name": "stdout",
     "output_type": "stream",
     "text": [
      "ECG DATA\n",
      "Identified outliers: 3490340\n",
      "<map object at 0x000001B21ABA7400>\n",
      "ECG Data Shape: (41052191,)\n",
      "[-0.01998352 -0.01998352 -0.01498764 ... -0.30662215 -0.07868511\n",
      "  0.19796176]\n"
     ]
    }
   ],
   "source": [
    "# ECG DATA - Remove Outlier\n",
    "# calculate the outlier cutoff\n",
    "print(\"ECG DATA\")\n",
    "cut_off_ECG = iqr1_ECG * 1.5\n",
    "lower_ECG, upper_ECG = q25_ECG - cut_off_ECG, q75_ECG + cut_off_ECG\n",
    "# identify outliers\n",
    "signals_ECG_outliers = [x for x in signals_ECG[0] if x < lower_ECG or x > upper_ECG]\n",
    "print('Identified outliers: %d' % len(signals_ECG_outliers))\n",
    "signals_ECG_1 = []\n",
    "signals_ECG_1 = map(functools.partial(iqr_remove_outlier, lower=lower_ECG, upper=upper_ECG), signals_ECG[0])\n",
    "print(signals_ECG_1)\n",
    "signals_ECG_1 = np.fromiter(signals_ECG_1, dtype=np.float64)\n",
    "print(f\"ECG Data Shape: {signals_ECG_1.shape}\")\n",
    "print(signals_ECG_1)"
   ]
  },
  {
   "cell_type": "code",
   "execution_count": 56,
   "metadata": {},
   "outputs": [
    {
     "name": "stdout",
     "output_type": "stream",
     "text": [
      "RESP DATA\n",
      "Identified outliers: 3490340\n",
      "<map object at 0x000001B2162CE110>\n",
      "RESP Data Shape: (1000000,)\n",
      "[24.22264814 24.2241401  24.22115619 ... 23.03430536 23.03430536\n",
      " 23.03430536]\n"
     ]
    }
   ],
   "source": [
    "# RESP DATA - Remove Outlier\n",
    "# calculate the outlier cutoff\n",
    "print(\"RESP DATA\")\n",
    "cut_off_RESP = iqr1_RESP * 1\n",
    "lower_RESP, upper_RESP = q25_RESP - cut_off_RESP, q75_RESP + cut_off_RESP\n",
    "# identify outliers\n",
    "signals_RESP_outliers = [x for x in signals_RESP[0] if x < lower_RESP or x > upper_RESP]\n",
    "print('Identified outliers: %d' % len(signals_ECG_outliers))\n",
    "signals_RESP_1 =[]\n",
    "signals_RESP_1 = map(functools.partial(iqr_remove_outlier, lower=lower_RESP, upper=upper_RESP), signals_RESP[0])\n",
    "print(signals_RESP_1)\n",
    "signals_RESP_1 = np.fromiter(signals_RESP_1, dtype=np.float64)\n",
    "print(f\"RESP Data Shape: {signals_RESP_1.shape}\")\n",
    "print(signals_RESP_1)"
   ]
  },
  {
   "attachments": {},
   "cell_type": "markdown",
   "metadata": {},
   "source": [
    "### Normalize data to (-1,1)"
   ]
  },
  {
   "cell_type": "code",
   "execution_count": 57,
   "metadata": {},
   "outputs": [
    {
     "name": "stdout",
     "output_type": "stream",
     "text": [
      "(41052191,)\n",
      "(41052191, 1)\n",
      "(1000000,)\n",
      "(1000000, 1)\n"
     ]
    }
   ],
   "source": [
    "# Reshape the data\n",
    "print(signals_ECG_1.shape)\n",
    "signals_ECG_2 = signals_ECG_1.reshape(signals_ECG_1.shape[0],1)\n",
    "print(signals_ECG_2.shape)\n",
    "print(signals_RESP_1.shape)\n",
    "signals_RESP_2 = signals_RESP_1.reshape(signals_RESP_1.shape[0],1)\n",
    "print(signals_RESP_2.shape)"
   ]
  },
  {
   "cell_type": "code",
   "execution_count": 58,
   "metadata": {},
   "outputs": [],
   "source": [
    "# Normalization\n",
    "signals_ECG_3 = scaler.fit_transform(signals_ECG_2)\n",
    "signals_RESP_3 = scaler.fit_transform(signals_RESP_2)"
   ]
  },
  {
   "attachments": {},
   "cell_type": "markdown",
   "metadata": {},
   "source": [
    "### Fast Fourier Transform"
   ]
  },
  {
   "cell_type": "code",
   "execution_count": 59,
   "metadata": {},
   "outputs": [],
   "source": [
    "# Reshape the Data\n",
    "signals_ECG_4 = signals_ECG_3.reshape(signals_ECG_3.shape[0])\n",
    "signals_RESP_4 = signals_RESP_3.reshape(signals_RESP_3.shape[0])"
   ]
  },
  {
   "cell_type": "code",
   "execution_count": 60,
   "metadata": {},
   "outputs": [],
   "source": [
    "# FFT\n",
    "yf_ECG_1 = scipy.fft.fft(signals_ECG_4)\n",
    "xf_ECG_1 = scipy.fft.fftfreq(signals_ECG_4.shape[0], 1/record_ECG.fs)\n",
    "yf_RESP_1 = scipy.fft.fft(signals_RESP_4)\n",
    "xf_RESP_1 = scipy.fft.fftfreq(signals_RESP_4.shape[0], 1/record_RESP.fs)"
   ]
  },
  {
   "attachments": {},
   "cell_type": "markdown",
   "metadata": {},
   "source": [
    "### Frequency Filtering\n",
    "1. Bandpass\n",
    "1. Lowpass\n",
    "1. Highpass"
   ]
  },
  {
   "cell_type": "code",
   "execution_count": 61,
   "metadata": {},
   "outputs": [],
   "source": [
    "# ECG DATA - Butterworth Bandpass - (8, 20) Hz\n",
    "fs_ECG_1 = record_ECG.fs\n",
    "lowcut_ECG_1 = fs_ECG_1/20\n",
    "highcut_ECG_1 = fs_ECG_1/16\n",
    "bandpass_order_1 = 2\n",
    "\n",
    "signals_ECG_5 = butter_bandpass_filter(data=signals_ECG_3,lowcut=lowcut_ECG_1,highcut=highcut_ECG_1,fs=fs_ECG_1,order=bandpass_order_1)"
   ]
  },
  {
   "cell_type": "code",
   "execution_count": 62,
   "metadata": {},
   "outputs": [],
   "source": [
    "# ECG DATA - Lowpass Filter - cutoff frequency 20 Hz\n",
    "fs_ECG_1 = record_ECG.fs\n",
    "lowpass_cut_ECG_1 = fs_ECG_1/5\n",
    "lowpass_order_ECG_1 = 2\n",
    "\n",
    "signals_ECG_6 = butter_lowpass_filter(data=signals_ECG_3, cutoff=lowpass_cut_ECG_1, fs=fs_ECG_1, order=lowpass_order_ECG_1)"
   ]
  },
  {
   "cell_type": "code",
   "execution_count": 63,
   "metadata": {},
   "outputs": [],
   "source": [
    "# RESP DATA - Butterworth Bandpass - (8, 20) Hz\n",
    "fs_RESP_1 = record_RESP.fs\n",
    "lowcut_RESP_1 = fs_RESP_1/20\n",
    "highcut_RESP_1 = fs_RESP_1/5\n",
    "\n",
    "signals_RESP_5 = butter_bandpass_filter(data=signals_RESP_3, lowcut=lowcut_RESP_1, highcut=highcut_RESP_1, fs=fs_RESP_1, order=6)"
   ]
  },
  {
   "cell_type": "code",
   "execution_count": 64,
   "metadata": {},
   "outputs": [],
   "source": [
    "# RESP DATA - Lowpass Filter - cutoff frequency 20 Hz\n",
    "fs_RESP_1 = record_RESP.fs\n",
    "lowpass_cut_RESP_1 = 50\n",
    "lowpass_order_RESP_1 = 5\n",
    "\n",
    "signals_RESP_6 = butter_lowpass_filter(data=signals_RESP_3, cutoff=lowpass_cut_RESP_1, fs=fs_RESP_1, order=lowpass_order_RESP_1)"
   ]
  },
  {
   "attachments": {},
   "cell_type": "markdown",
   "metadata": {},
   "source": [
    "# Heart Rate and Respiration Rate"
   ]
  },
  {
   "cell_type": "code",
   "execution_count": 65,
   "metadata": {},
   "outputs": [],
   "source": [
    "ECG_qrs_inds_1 = processing.qrs.gqrs_detect(sig=signals_ECG_3, fs=record_ECG.fs)\n",
    "# peaks_hr(sig=signals_ECG_3, peak_inds=ECG_qrs_inds_1, fs=record_ECG.fs, title=\"Heart Rate from ECG\")"
   ]
  },
  {
   "cell_type": "code",
   "execution_count": 66,
   "metadata": {},
   "outputs": [],
   "source": [
    "ECG_hrs_1 = processing.hr.compute_hr(sig_len=signals_ECG_3.shape[0], qrs_inds=ECG_qrs_inds_1, fs=record_ECG.fs)\n",
    "# plt.plot(ECG_hrs_1)"
   ]
  },
  {
   "cell_type": "code",
   "execution_count": 67,
   "metadata": {},
   "outputs": [],
   "source": [
    "RESP_peak_inds_1 = processing.peaks.find_local_peaks(sig=signals_RESP_3, radius=record_RESP.fs)\n",
    "# peaks_rr(sig=signals_RESP_3, peak_inds=RESP_peak_inds_1, fs=record_RESP.fs, title=\"Respiration Rate from RESP\")"
   ]
  },
  {
   "cell_type": "code",
   "execution_count": 68,
   "metadata": {},
   "outputs": [],
   "source": [
    "RESP_rrs_1 = processing.hr.compute_hr(sig_len=signals_RESP_3.shape[0], qrs_inds=RESP_peak_inds_1, fs=record_RESP.fs)\n",
    "# plt.plot(RESP_rrs_1)"
   ]
  },
  {
   "cell_type": "code",
   "execution_count": 69,
   "metadata": {},
   "outputs": [],
   "source": [
    "# signals_RESP_7 = scipy.signal.resample(signals_RESP_3, signals_ECG_3.shape[0])\n",
    "# RESP_peak_inds_2 = processing.peaks.find_local_peaks(sig=signals_RESP_7, radius=record_ECG.fs)\n",
    "# RESP_rrs_2 = processing.hr.compute_hr(sig_len=signals_RESP_7.shape[0], qrs_inds=RESP_peak_inds_2, fs=record_ECG.fs)\n",
    "# RESP_peak_inds_2 = processing.peaks.find_local_peaks(sig=signals_RESP_3, radius=record_RESP.fs)\n",
    "# RESP_rrs_2 = processing.hr.compute_hr(sig_len=signals_RESP_3.shape[0], qrs_inds=RESP_peak_inds_2, fs=record_RESP.fs)\n",
    "# plt.plot(RESP_rrs_2)"
   ]
  },
  {
   "cell_type": "code",
   "execution_count": 70,
   "metadata": {},
   "outputs": [],
   "source": [
    "np.save(file='../data/infant_1_hrs_1.npy', arr=ECG_hrs_1)\n",
    "np.save(file='../data/infant_1_rrs_2.npy', arr=RESP_rrs_1)"
   ]
  },
  {
   "cell_type": "code",
   "execution_count": 71,
   "metadata": {},
   "outputs": [
    {
     "name": "stdout",
     "output_type": "stream",
     "text": [
      "(1000000,)\n",
      "(41052191,)\n"
     ]
    }
   ],
   "source": [
    "RESP_rrs_2 = pd.DataFrame(RESP_rrs_1).fillna(0).to_numpy().reshape(RESP_rrs_1.shape[0])\n",
    "ECG_hrs_2 = pd.DataFrame(ECG_hrs_1).fillna(0).to_numpy().reshape(ECG_hrs_1.shape[0])\n",
    "print(RESP_rrs_2.shape)\n",
    "print(ECG_hrs_2.shape)\n",
    "# correlationTest(RESP_rrs_3[:],ECG_hrs_2[:])"
   ]
  },
  {
   "cell_type": "code",
   "execution_count": 72,
   "metadata": {},
   "outputs": [],
   "source": [
    "if (RESP_rrs_2.shape[0] < ECG_hrs_2.shape[0]):\n",
    "    ECG_hrs_3 = scipy.signal.resample(ECG_hrs_2, RESP_rrs_2.shape[0])\n",
    "else:\n",
    "    RESP_rrs_3 = scipy.signal.resample(RESP_rrs_2, ECG_hrs_2.shape[0])"
   ]
  },
  {
   "cell_type": "code",
   "execution_count": 73,
   "metadata": {},
   "outputs": [
    {
     "name": "stdout",
     "output_type": "stream",
     "text": [
      "(1000000, 1)\n",
      "(1000000, 1)\n",
      "X_train: (750000, 1), y_train: (750000, 1)\n",
      "X_test: (250000, 1), y_test: (250000, 1)\n"
     ]
    }
   ],
   "source": [
    "# Linear Regression\n",
    "SEED = 42\n",
    "X = RESP_rrs_3.reshape(RESP_rrs_3.shape[0],1)\n",
    "print(X.shape)\n",
    "y = ECG_hrs_3.reshape(ECG_hrs_3.shape[0],1)\n",
    "print(y.shape)\n",
    "X_train, X_test, y_train, y_test = train_test_split(X, y, test_size = 0.25, random_state=SEED)\n",
    "print(f\"X_train: {X_train.shape}, y_train: {y_train.shape}\")\n",
    "print(f\"X_test: {X_test.shape}, y_test: {y_test.shape}\")"
   ]
  },
  {
   "cell_type": "code",
   "execution_count": 74,
   "metadata": {},
   "outputs": [
    {
     "name": "stdout",
     "output_type": "stream",
     "text": [
      "[154.56085]\n",
      "[[-0.02802164]]\n"
     ]
    }
   ],
   "source": [
    "regressor = LinearRegression()\n",
    "regressor.fit(X_train, y_train)\n",
    "print(regressor.intercept_)\n",
    "print(regressor.coef_)"
   ]
  },
  {
   "cell_type": "code",
   "execution_count": 75,
   "metadata": {},
   "outputs": [],
   "source": [
    "y_predict = regressor.predict(X_test)"
   ]
  },
  {
   "cell_type": "code",
   "execution_count": 76,
   "metadata": {},
   "outputs": [
    {
     "name": "stdout",
     "output_type": "stream",
     "text": [
      "Mean absolute error: 8.50\n",
      "Mean squared error: 158.10\n",
      "Root mean squared error: 12.57\n"
     ]
    }
   ],
   "source": [
    "mae = mean_absolute_error(y_test, y_predict)\n",
    "mse = mean_squared_error(y_test, y_predict)\n",
    "rmse = np.sqrt(mse)\n",
    "print(f'Mean absolute error: {mae:.2f}')\n",
    "print(f'Mean squared error: {mse:.2f}')\n",
    "print(f'Root mean squared error: {rmse:.2f}')"
   ]
  }
 ],
 "metadata": {
  "kernelspec": {
   "display_name": "mcs_aml_venv_1",
   "language": "python",
   "name": "python3"
  },
  "language_info": {
   "codemirror_mode": {
    "name": "ipython",
    "version": 3
   },
   "file_extension": ".py",
   "mimetype": "text/x-python",
   "name": "python",
   "nbconvert_exporter": "python",
   "pygments_lexer": "ipython3",
   "version": "3.10.6"
  },
  "orig_nbformat": 4,
  "vscode": {
   "interpreter": {
    "hash": "a14dbdb1f72aaa09167b48d00cde9d80f1c9c9222724b1b54b66fa4b88a3fbfb"
   }
  }
 },
 "nbformat": 4,
 "nbformat_minor": 2
}
