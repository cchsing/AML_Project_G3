{
 "cells": [
  {
   "cell_type": "code",
   "execution_count": 1,
   "metadata": {},
   "outputs": [],
   "source": [
    "from Lib.myModules.my_ML_Modules_1 import *\n",
    "import math\n",
    "import sys\n",
    "import contextlib"
   ]
  },
  {
   "cell_type": "code",
   "execution_count": 2,
   "metadata": {},
   "outputs": [
    {
     "name": "stdout",
     "output_type": "stream",
     "text": [
      "ECG DATA: {'fs': 500, 'sig_len': 44288000, 'n_sig': 1, 'base_date': None, 'base_time': None, 'units': ['mV'], 'sig_name': ['II'], 'comments': []}\n",
      "RESP DATA: {'fs': 50, 'sig_len': 4428613, 'n_sig': 1, 'base_date': None, 'base_time': None, 'units': ['NU'], 'sig_name': ['RESP'], 'comments': []}\n",
      "88576.0 sec, 1476.2666666666667 minutes, 24.604444444444443 hours\n",
      "88572.26 sec, 1476.2043333333334 minutes, 24.603405555555554 hours\n"
     ]
    }
   ],
   "source": [
    "data_dir = \"../data\"\n",
    "infantNum = 8\n",
    "ECG_dataset = f\"{data_dir}/infant{infantNum}_ecg\"\n",
    "RESP_dataset = f\"{data_dir}/infant{infantNum}_resp\"\n",
    "# Read all the data\n",
    "signal_ecg_0 = wfdb.rdsamp(f\"{data_dir}/infant{infantNum}_ecg\")\n",
    "signal_resp_0 = wfdb.rdsamp(f\"{data_dir}/infant{infantNum}_resp\")\n",
    "print(f'ECG DATA: {signal_ecg_0[1]}')\n",
    "print(F'RESP DATA: {signal_resp_0[1]}')\n",
    "totalDuration_ECG = num2Time(num=signal_ecg_0[1]['sig_len'], fs=signal_ecg_0[1]['fs'])\n",
    "print(f'{totalDuration_ECG} sec, {secs2minutes(totalDuration_ECG)} minutes, {secs2hours(totalDuration_ECG)} hours')\n",
    "totalDuration_RESP = num2Time(num=signal_resp_0[1]['sig_len'], fs=signal_resp_0[1]['fs'])\n",
    "print(f'{totalDuration_RESP} sec, {secs2minutes(totalDuration_RESP)} minutes, {secs2hours(totalDuration_RESP)} hours')"
   ]
  },
  {
   "cell_type": "code",
   "execution_count": 3,
   "metadata": {},
   "outputs": [
    {
     "name": "stdout",
     "output_type": "stream",
     "text": [
      "start: 3600000, end: 3960000\n",
      "start: 360000, end: 396000\n",
      "90th percentile: 0.1900387193332935, 10th percentile: -0.18792717800736802, IQR: 0.37796589734066155\n",
      "Identified outliers: 14394\n",
      "Data Shape: (360000,)\n",
      "90th percentile: 17.408305226508833, 10th percentile: 15.500599967367158, IQR: 1.9077052591416752\n",
      "Identified outliers: 123\n",
      "Data Shape: (36000,)\n",
      "[[140.8406518    6.2299657 ]\n",
      " [  6.2299657  157.02812419]]\n",
      "Pearsons correlation: 0.042\n",
      "Spearmans correlation: 0.060\n",
      "---------------------------------------------\n",
      "--- Linear Regression ---\n",
      "Coefficient of determination: 0.0016626258305800778\n",
      "Intercept: [122.94702]\n",
      "Coefficients: [[0.04299657]]\n",
      "Mean absolute error: 8.05\n",
      "Mean squared error: 158.69\n",
      "Root mean squared error: 12.60\n",
      "---------------------------------------------\n",
      "--- Polynomial Regression ---\n",
      "Coefficient of determination: 0.02689069414369938\n",
      "Intercept: [120.66269]\n",
      "Coefficients: [[ 2.8628380e-09  2.4314298e-07  2.6502498e-06  4.1854109e-05\n",
      "  -1.6403213e-06  1.6031976e-08]]\n",
      "Mean absolute error: 7.96\n",
      "Mean squared error: 152.39\n",
      "Root mean squared error: 12.34\n",
      "---------------------------------------------\n",
      "--- SVR Radius Basis Function---\n",
      "Coefficient of determination: 0.012736314625349854\n",
      "Intercept: [0.47412045]\n",
      "Mean absolute error: 8.84\n",
      "Mean squared error: 171.38\n",
      "Root mean squared error: 13.09\n"
     ]
    }
   ],
   "source": [
    "# initialize the training\n",
    "start_time_secs = hours2secs(2)\n",
    "end_time_secs = hours2secs(2.2)\n",
    "lr_model, pr_model, svr_rbf_model = training_pipeline(start_time_secs=start_time_secs, \n",
    "                                                        end_time_secs=end_time_secs, \n",
    "                                                        signal_ecg_0=signal_ecg_0,\n",
    "                                                        signal_resp_0=signal_resp_0,\n",
    "                                                        ECG_dataset=ECG_dataset,\n",
    "                                                        RESP_dataset=RESP_dataset)"
   ]
  },
  {
   "cell_type": "code",
   "execution_count": 4,
   "metadata": {},
   "outputs": [],
   "source": [
    "step = 0.25\n",
    "startHrs = 10\n",
    "endHrs = 12\n",
    "logFilePath = f\"../logs/infant{infantNum}_step{step}_startHrs{startHrs}_endHrs{endHrs}.log\"\n",
    "\n",
    "with open(logFilePath, 'a') as f:\n",
    "    with contextlib.redirect_stdout(f):\n",
    "        for i in np.arange(startHrs, endHrs, step):\n",
    "            print(\"-------------------------------------------------------------------------\")\n",
    "            print(f\"Data bin index: {i:.3f}\")\n",
    "            start_time_secs = hours2secs(i)\n",
    "            end_time_secs = hours2secs(i+step)\n",
    "            lr_model, pr_model, svr_rbf_model = cascade_training_pipeline(lr_model=lr_model, \n",
    "                                                                            pr_model=pr_model, \n",
    "                                                                            svr_rbf_model=svr_rbf_model, \n",
    "                                                                            start_time_secs=start_time_secs, \n",
    "                                                                            end_time_secs=end_time_secs,\n",
    "                                                                            signal_ecg_0=signal_ecg_0,\n",
    "                                                                            signal_resp_0=signal_resp_0,\n",
    "                                                                            ECG_dataset=ECG_dataset,\n",
    "                                                                            RESP_dataset=RESP_dataset)"
   ]
  },
  {
   "cell_type": "code",
   "execution_count": 5,
   "metadata": {},
   "outputs": [],
   "source": [
    "# save the model\n",
    "for i in [lr_model, pr_model, svr_rbf_model]:\n",
    "    filename = f\"../models/infant_{infantNum}/{namestr(i, globals())[0]}_step{step}_startHrs{startHrs}_endHrs{endHrs}.sav\"\n",
    "    joblib.dump(i, filename)\n"
   ]
  }
 ],
 "metadata": {
  "kernelspec": {
   "display_name": "mcs_aml_venv_1",
   "language": "python",
   "name": "python3"
  },
  "language_info": {
   "codemirror_mode": {
    "name": "ipython",
    "version": 3
   },
   "file_extension": ".py",
   "mimetype": "text/x-python",
   "name": "python",
   "nbconvert_exporter": "python",
   "pygments_lexer": "ipython3",
   "version": "3.10.6"
  },
  "orig_nbformat": 4,
  "vscode": {
   "interpreter": {
    "hash": "a14dbdb1f72aaa09167b48d00cde9d80f1c9c9222724b1b54b66fa4b88a3fbfb"
   }
  }
 },
 "nbformat": 4,
 "nbformat_minor": 2
}
