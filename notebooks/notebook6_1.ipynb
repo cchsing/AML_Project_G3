{
 "cells": [
  {
   "cell_type": "code",
   "execution_count": 1,
   "metadata": {},
   "outputs": [],
   "source": [
    "from Lib.myModules.my_ML_Modules_1 import *\n",
    "import math\n",
    "import sys\n",
    "import contextlib"
   ]
  },
  {
   "cell_type": "code",
   "execution_count": 2,
   "metadata": {},
   "outputs": [
    {
     "name": "stdout",
     "output_type": "stream",
     "text": [
      "ECG DATA: {'fs': 500, 'sig_len': 87492197, 'n_sig': 1, 'base_date': None, 'base_time': None, 'units': ['mV'], 'sig_name': ['II'], 'comments': []}\n",
      "RESP DATA: {'fs': 50, 'sig_len': 8749057, 'n_sig': 1, 'base_date': None, 'base_time': None, 'units': ['NU'], 'sig_name': ['RESP'], 'comments': []}\n",
      "174984.394 sec, 2916.4065666666665 minutes, 48.60677611111111 hours\n",
      "174981.14 sec, 2916.3523333333337 minutes, 48.605872222222224 hours\n"
     ]
    }
   ],
   "source": [
    "data_dir = \"../data\"\n",
    "infantNum = 6\n",
    "ECG_dataset = f\"{data_dir}/infant{infantNum}_ecg\"\n",
    "RESP_dataset = f\"{data_dir}/infant{infantNum}_resp\"\n",
    "# Read all the data\n",
    "signal_ecg_0 = wfdb.rdsamp(f\"{data_dir}/infant{infantNum}_ecg\")\n",
    "signal_resp_0 = wfdb.rdsamp(f\"{data_dir}/infant{infantNum}_resp\")\n",
    "print(f'ECG DATA: {signal_ecg_0[1]}')\n",
    "print(F'RESP DATA: {signal_resp_0[1]}')\n",
    "totalDuration_ECG = num2Time(num=signal_ecg_0[1]['sig_len'], fs=signal_ecg_0[1]['fs'])\n",
    "print(f'{totalDuration_ECG} sec, {secs2minutes(totalDuration_ECG)} minutes, {secs2hours(totalDuration_ECG)} hours')\n",
    "totalDuration_RESP = num2Time(num=signal_resp_0[1]['sig_len'], fs=signal_resp_0[1]['fs'])\n",
    "print(f'{totalDuration_RESP} sec, {secs2minutes(totalDuration_RESP)} minutes, {secs2hours(totalDuration_RESP)} hours')"
   ]
  },
  {
   "cell_type": "code",
   "execution_count": 3,
   "metadata": {},
   "outputs": [
    {
     "name": "stdout",
     "output_type": "stream",
     "text": [
      "start: 1800000, end: 1980000\n",
      "start: 180000, end: 198000\n",
      "90th percentile: 0.05245973059929871, 10th percentile: -0.1299002852935016, IQR: 0.1823600158928003\n",
      "Identified outliers: 9866\n",
      "Data Shape: (180000,)\n",
      "90th percentile: 21.32442812066816, 10th percentile: 19.57670468796071, IQR: 1.7477234327074491\n",
      "Identified outliers: 144\n",
      "Data Shape: (18000,)\n",
      "[[160.21249153   6.71177676]\n",
      " [  6.71177676 100.44146808]]\n",
      "Pearsons correlation: 0.053\n",
      "Spearmans correlation: -0.090\n",
      "---------------------------------------------\n",
      "--- Linear Regression ---\n",
      "Coefficient of determination: 0.0031106925675331576\n",
      "Intercept: [126.25966]\n",
      "Coefficients: [[0.04452831]]\n",
      "Mean absolute error: 4.71\n",
      "Mean squared error: 95.80\n",
      "Root mean squared error: 9.79\n",
      "---------------------------------------------\n",
      "--- Polynomial Regression ---\n",
      "Coefficient of determination: 0.0017095042261980886\n",
      "Intercept: [128.10703]\n",
      "Coefficients: [[-4.0237191e-10 -3.9763510e-08 -3.8681296e-07 -6.1688033e-06\n",
      "   2.6486478e-07 -2.8028353e-09]]\n",
      "Mean absolute error: 4.60\n",
      "Mean squared error: 93.73\n",
      "Root mean squared error: 9.68\n",
      "---------------------------------------------\n",
      "--- SVR Radius Basis Function---\n",
      "Coefficient of determination: -0.014685804775041778\n",
      "Intercept: [-0.14593523]\n",
      "Mean absolute error: 5.86\n",
      "Mean squared error: 111.23\n",
      "Root mean squared error: 10.55\n",
      "--- SVR Linear ---\n",
      "Coefficient of determination: -0.15685910379653567\n",
      "Intercept: [0.60890021]\n",
      "Mean absolute error: 6.39\n",
      "Mean squared error: 124.80\n",
      "Root mean squared error: 11.17\n",
      "--- SVR Polynomial ---\n",
      "Coefficient of determination: -0.16746552840291407\n",
      "Intercept: [0.64257381]\n",
      "Mean absolute error: 7.18\n",
      "Mean squared error: 137.41\n",
      "Root mean squared error: 11.72\n"
     ]
    }
   ],
   "source": [
    "# initialize the training\n",
    "start_time_secs = hours2secs(1)\n",
    "end_time_secs = hours2secs(1.1)\n",
    "lr_model, pr_model, svr_rbf_model, svr_lin_model, svr_poly_model = training_pipeline(start_time_secs=start_time_secs, \n",
    "                                                                                     end_time_secs=end_time_secs, \n",
    "                                                                                     signal_ecg_0=signal_ecg_0,\n",
    "                                                                                     signal_resp_0=signal_resp_0,\n",
    "                                                                                     ECG_dataset=ECG_dataset,\n",
    "                                                                                     RESP_dataset=RESP_dataset)"
   ]
  },
  {
   "cell_type": "code",
   "execution_count": 4,
   "metadata": {},
   "outputs": [
    {
     "name": "stdout",
     "output_type": "stream",
     "text": [
      "start: 3600000, end: 3780000\n",
      "start: 360000, end: 378000\n",
      "90th percentile: 0.044965483370827466, 10th percentile: -0.1373945325219728, IQR: 0.18236001589280026\n",
      "Identified outliers: 10298\n",
      "Data Shape: (180000,)\n",
      "90th percentile: 21.023455096904748, 10th percentile: 19.206605746137818, IQR: 1.8168493507669297\n",
      "Identified outliers: 370\n",
      "Data Shape: (18000,)\n",
      "[[144.01075282  15.64288341]\n",
      " [ 15.64288341  97.89089956]]\n",
      "Pearsons correlation: 0.132\n",
      "Spearmans correlation: 0.163\n",
      "---------------------------------------------\n",
      "--- Linear Regression ---\n",
      "Coefficient of determination: 0.015935985805043962\n",
      "Intercept: [136.43597]\n",
      "Coefficients: [[0.10337918]]\n",
      "Mean absolute error: 3.09\n",
      "Mean squared error: 99.00\n",
      "Root mean squared error: 9.95\n",
      "---------------------------------------------\n",
      "--- Polynomial Regression ---\n",
      "Coefficient of determination: 0.012212669127990017\n",
      "Intercept: [137.22388]\n",
      "Coefficients: [[ 1.7806053e-09 -3.9119211e-08  1.2385493e-06  1.8087791e-05\n",
      "  -6.8981279e-07  6.7681931e-09]]\n",
      "Mean absolute error: 3.24\n",
      "Mean squared error: 128.89\n",
      "Root mean squared error: 11.35\n",
      "---------------------------------------------\n",
      "--- SVR Radius Basis Function---\n",
      "Coefficient of determination: -1.0662967321315886\n",
      "Intercept: [0.41289771]\n",
      "Mean absolute error: 13.00\n",
      "Mean squared error: 241.36\n",
      "Root mean squared error: 15.54\n",
      "--- SVR Linear ---\n",
      "Coefficient of determination: -0.7356109777951156\n",
      "Intercept: [0.54602399]\n",
      "Mean absolute error: 12.39\n",
      "Mean squared error: 234.93\n",
      "Root mean squared error: 15.33\n",
      "--- SVR Polynomial ---\n",
      "Coefficient of determination: -1.5473723628221911\n",
      "Intercept: [0.57949766]\n",
      "Mean absolute error: 14.66\n",
      "Mean squared error: 316.37\n",
      "Root mean squared error: 17.79\n"
     ]
    }
   ],
   "source": [
    "start_time_secs = hours2secs(2)\n",
    "end_time_secs = hours2secs(2.1)\n",
    "lr_model, pr_model, svr_rbf_model, svr_lin_model, svr_poly_model = cascade_training_pipeline(lr_model=lr_model, \n",
    "                                                                                             pr_model=pr_model, \n",
    "                                                                                             svr_rbf_model=svr_rbf_model, \n",
    "                                                                                             svr_lin_model=svr_lin_model, \n",
    "                                                                                             svr_poly_model=svr_poly_model, \n",
    "                                                                                             start_time_secs=start_time_secs, \n",
    "                                                                                             end_time_secs=end_time_secs,\n",
    "                                                                                             signal_ecg_0=signal_ecg_0,\n",
    "                                                                                             signal_resp_0=signal_resp_0,\n",
    "                                                                                             ECG_dataset=ECG_dataset,\n",
    "                                                                                             RESP_dataset=RESP_dataset)"
   ]
  },
  {
   "cell_type": "code",
   "execution_count": 5,
   "metadata": {},
   "outputs": [
    {
     "name": "stdout",
     "output_type": "stream",
     "text": [
      "start: 4320000, end: 4500000\n",
      "start: 432000, end: 450000\n",
      "90th percentile: 0.0824367195131837, 10th percentile: -0.1699945079658209, IQR: 0.2524312274790046\n",
      "Identified outliers: 9904\n",
      "Data Shape: (180000,)\n",
      "90th percentile: 21.573403772439924, 10th percentile: 19.245756708578586, IQR: 2.3276470638613382\n",
      "Identified outliers: 270\n",
      "Data Shape: (18000,)\n",
      "[[168.13778663   6.52716233]\n",
      " [  6.52716233 121.39094201]]\n",
      "Pearsons correlation: 0.046\n",
      "Spearmans correlation: -0.099\n",
      "---------------------------------------------\n",
      "--- Linear Regression ---\n",
      "Coefficient of determination: 0.0014892129481667293\n",
      "Intercept: [139.97986]\n",
      "Coefficients: [[0.03148242]]\n",
      "Mean absolute error: 4.69\n",
      "Mean squared error: 148.88\n",
      "Root mean squared error: 12.20\n",
      "---------------------------------------------\n",
      "--- Polynomial Regression ---\n",
      "Coefficient of determination: 0.01699784167495233\n",
      "Intercept: [138.605]\n",
      "Coefficients: [[ 1.6532689e-09  3.8444607e-08  1.5948467e-06  2.5911990e-05\n",
      "  -9.8488977e-07  9.2795567e-09]]\n",
      "Mean absolute error: 4.36\n",
      "Mean squared error: 108.00\n",
      "Root mean squared error: 10.39\n",
      "---------------------------------------------\n",
      "--- SVR Radius Basis Function---\n",
      "Coefficient of determination: -0.27189831377608686\n",
      "Intercept: [0.52859294]\n",
      "Mean absolute error: 7.34\n",
      "Mean squared error: 143.54\n",
      "Root mean squared error: 11.98\n",
      "--- SVR Linear ---\n",
      "Coefficient of determination: -0.36305095612471416\n",
      "Intercept: [0.59261178]\n",
      "Mean absolute error: 7.56\n",
      "Mean squared error: 147.68\n",
      "Root mean squared error: 12.15\n",
      "--- SVR Polynomial ---\n",
      "Coefficient of determination: -0.5975807162942686\n",
      "Intercept: [0.62866368]\n",
      "Mean absolute error: 7.98\n",
      "Mean squared error: 157.60\n",
      "Root mean squared error: 12.55\n"
     ]
    }
   ],
   "source": [
    "start_time_secs = hours2secs(2.4)\n",
    "end_time_secs = hours2secs(2.5)\n",
    "lr_model, pr_model, svr_rbf_model, svr_lin_model, svr_poly_model = cascade_training_pipeline(lr_model=lr_model, \n",
    "                                                                                             pr_model=pr_model, \n",
    "                                                                                             svr_rbf_model=svr_rbf_model, \n",
    "                                                                                             svr_lin_model=svr_lin_model, \n",
    "                                                                                             svr_poly_model=svr_poly_model, \n",
    "                                                                                             start_time_secs=start_time_secs, \n",
    "                                                                                             end_time_secs=end_time_secs,\n",
    "                                                                                             signal_ecg_0=signal_ecg_0,\n",
    "                                                                                             signal_resp_0=signal_resp_0,\n",
    "                                                                                             ECG_dataset=ECG_dataset,\n",
    "                                                                                             RESP_dataset=RESP_dataset)"
   ]
  }
 ],
 "metadata": {
  "kernelspec": {
   "display_name": "mcs_aml_venv_1",
   "language": "python",
   "name": "python3"
  },
  "language_info": {
   "codemirror_mode": {
    "name": "ipython",
    "version": 3
   },
   "file_extension": ".py",
   "mimetype": "text/x-python",
   "name": "python",
   "nbconvert_exporter": "python",
   "pygments_lexer": "ipython3",
   "version": "3.10.6"
  },
  "orig_nbformat": 4,
  "vscode": {
   "interpreter": {
    "hash": "a14dbdb1f72aaa09167b48d00cde9d80f1c9c9222724b1b54b66fa4b88a3fbfb"
   }
  }
 },
 "nbformat": 4,
 "nbformat_minor": 2
}
