{
 "cells": [
  {
   "cell_type": "code",
   "execution_count": 1,
   "metadata": {},
   "outputs": [],
   "source": [
    "from Lib.myModules.my_ML_Modules_1 import *\n",
    "import math\n",
    "import sys\n",
    "import contextlib"
   ]
  },
  {
   "cell_type": "code",
   "execution_count": 2,
   "metadata": {},
   "outputs": [
    {
     "name": "stdout",
     "output_type": "stream",
     "text": [
      "ECG DATA: {'fs': 500, 'sig_len': 78684614, 'n_sig': 1, 'base_date': None, 'base_time': None, 'units': ['mV'], 'sig_name': ['II'], 'comments': []}\n",
      "RESP DATA: {'fs': 50, 'sig_len': 7868296, 'n_sig': 1, 'base_date': None, 'base_time': None, 'units': ['NU'], 'sig_name': ['RESP'], 'comments': []}\n",
      "157369.228 sec, 2622.8204666666666 minutes, 43.71367444444444 hours\n",
      "157365.92 sec, 2622.7653333333337 minutes, 43.71275555555556 hours\n"
     ]
    }
   ],
   "source": [
    "data_dir = \"../data\"\n",
    "infantNum = 3\n",
    "ECG_dataset = f\"{data_dir}/infant{infantNum}_ecg\"\n",
    "RESP_dataset = f\"{data_dir}/infant{infantNum}_resp\"\n",
    "# Read all the data\n",
    "signal_ecg_0 = wfdb.rdsamp(f\"{data_dir}/infant{infantNum}_ecg\")\n",
    "signal_resp_0 = wfdb.rdsamp(f\"{data_dir}/infant{infantNum}_resp\")\n",
    "print(f'ECG DATA: {signal_ecg_0[1]}')\n",
    "print(F'RESP DATA: {signal_resp_0[1]}')\n",
    "totalDuration_ECG = num2Time(num=signal_ecg_0[1]['sig_len'], fs=signal_ecg_0[1]['fs'])\n",
    "print(f'{totalDuration_ECG} sec, {secs2minutes(totalDuration_ECG)} minutes, {secs2hours(totalDuration_ECG)} hours')\n",
    "totalDuration_RESP = num2Time(num=signal_resp_0[1]['sig_len'], fs=signal_resp_0[1]['fs'])\n",
    "print(f'{totalDuration_RESP} sec, {secs2minutes(totalDuration_RESP)} minutes, {secs2hours(totalDuration_RESP)} hours')"
   ]
  },
  {
   "cell_type": "code",
   "execution_count": 3,
   "metadata": {},
   "outputs": [
    {
     "name": "stdout",
     "output_type": "stream",
     "text": [
      "start: 3600000, end: 3960000\n",
      "start: 360000, end: 396000\n",
      "90th percentile: 0.10256002084159876, 10th percentile: -0.11833848558646011, IQR: 0.22089850642805886\n",
      "Identified outliers: 17531\n",
      "Data Shape: (360000,)\n",
      "90th percentile: 23.560276483201907, 10th percentile: 21.39089391195727, IQR: 2.169382571244636\n",
      "Identified outliers: 135\n",
      "Data Shape: (36000,)\n",
      "[[ 1.27967971e+02 -1.13603481e-01]\n",
      " [-1.13603481e-01  9.34161686e+01]]\n",
      "Pearsons correlation: -0.001\n",
      "Spearmans correlation: -0.051\n",
      "---------------------------------------------\n",
      "--- Linear Regression ---\n",
      "Coefficient of determination: 3.6467966063602475e-06\n",
      "Intercept: [123.92736]\n",
      "Coefficients: [[-0.00162373]]\n",
      "Mean absolute error: 5.68\n",
      "Mean squared error: 95.60\n",
      "Root mean squared error: 9.78\n",
      "---------------------------------------------\n",
      "--- Polynomial Regression ---\n",
      "Coefficient of determination: 0.009791991685555557\n",
      "Intercept: [122.42059]\n",
      "Coefficients: [[ 1.4001151e-09  9.5668234e-08  1.2255213e-06  1.8787008e-05\n",
      "  -7.5415670e-07  7.5229707e-09]]\n",
      "Mean absolute error: 5.54\n",
      "Mean squared error: 86.23\n",
      "Root mean squared error: 9.29\n",
      "---------------------------------------------\n",
      "--- SVR Radius Basis Function---\n",
      "Coefficient of determination: -0.007651938025370786\n",
      "Intercept: [-0.55864119]\n",
      "Mean absolute error: 6.14\n",
      "Mean squared error: 97.30\n",
      "Root mean squared error: 9.86\n"
     ]
    }
   ],
   "source": [
    "# initialize the training\n",
    "start_time_secs = hours2secs(2)\n",
    "end_time_secs = hours2secs(2.2)\n",
    "lr_model, pr_model, svr_rbf_model = training_pipeline(start_time_secs=start_time_secs, \n",
    "                                                        end_time_secs=end_time_secs, \n",
    "                                                        signal_ecg_0=signal_ecg_0,\n",
    "                                                        signal_resp_0=signal_resp_0,\n",
    "                                                        ECG_dataset=ECG_dataset,\n",
    "                                                        RESP_dataset=RESP_dataset)"
   ]
  },
  {
   "cell_type": "code",
   "execution_count": 4,
   "metadata": {},
   "outputs": [],
   "source": [
    "step = 0.25\n",
    "startHrs = 10\n",
    "endHrs = 12\n",
    "logFilePath = f\"../logs/infant{infantNum}_step{step}_startHrs{startHrs}_endHrs{endHrs}.log\"\n",
    "\n",
    "with open(logFilePath, 'a') as f:\n",
    "    with contextlib.redirect_stdout(f):\n",
    "        for i in np.arange(startHrs, endHrs, step):\n",
    "            print(\"-------------------------------------------------------------------------\")\n",
    "            print(f\"Data bin index: {i:.3f}\")\n",
    "            start_time_secs = hours2secs(i)\n",
    "            end_time_secs = hours2secs(i+step)\n",
    "            lr_model, pr_model, svr_rbf_model = cascade_training_pipeline(lr_model=lr_model, \n",
    "                                                                            pr_model=pr_model, \n",
    "                                                                            svr_rbf_model=svr_rbf_model, \n",
    "                                                                            start_time_secs=start_time_secs, \n",
    "                                                                            end_time_secs=end_time_secs,\n",
    "                                                                            signal_ecg_0=signal_ecg_0,\n",
    "                                                                            signal_resp_0=signal_resp_0,\n",
    "                                                                            ECG_dataset=ECG_dataset,\n",
    "                                                                            RESP_dataset=RESP_dataset)"
   ]
  },
  {
   "cell_type": "code",
   "execution_count": 5,
   "metadata": {},
   "outputs": [],
   "source": [
    "# save the model\n",
    "for i in [lr_model, pr_model, svr_rbf_model]:\n",
    "    filename = f\"../models/infant_{infantNum}/{namestr(i, globals())[0]}_step{step}_startHrs{startHrs}_endHrs{endHrs}.sav\"\n",
    "    joblib.dump(i, filename)\n"
   ]
  }
 ],
 "metadata": {
  "kernelspec": {
   "display_name": "mcs_aml_venv_1",
   "language": "python",
   "name": "python3"
  },
  "language_info": {
   "codemirror_mode": {
    "name": "ipython",
    "version": 3
   },
   "file_extension": ".py",
   "mimetype": "text/x-python",
   "name": "python",
   "nbconvert_exporter": "python",
   "pygments_lexer": "ipython3",
   "version": "3.10.6 (tags/v3.10.6:9c7b4bd, Aug  1 2022, 21:53:49) [MSC v.1932 64 bit (AMD64)]"
  },
  "orig_nbformat": 4,
  "vscode": {
   "interpreter": {
    "hash": "a14dbdb1f72aaa09167b48d00cde9d80f1c9c9222724b1b54b66fa4b88a3fbfb"
   }
  }
 },
 "nbformat": 4,
 "nbformat_minor": 2
}
