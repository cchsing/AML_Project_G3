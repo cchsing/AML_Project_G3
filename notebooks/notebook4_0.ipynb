{
 "cells": [
  {
   "cell_type": "code",
   "execution_count": 1,
   "metadata": {},
   "outputs": [],
   "source": [
    "from Lib.myModules.my_ML_Modules_1 import *"
   ]
  },
  {
   "cell_type": "code",
   "execution_count": 2,
   "metadata": {},
   "outputs": [],
   "source": [
    "data_dir = \"../data\"\n",
    "infantNum = 3\n",
    "ECG_dataset = f\"{data_dir}/infant{infantNum}_ecg\"\n",
    "RESP_dataset = f\"{data_dir}/infant{infantNum}_resp\""
   ]
  },
  {
   "cell_type": "code",
   "execution_count": 3,
   "metadata": {},
   "outputs": [
    {
     "name": "stdout",
     "output_type": "stream",
     "text": [
      "ECG DATA: {'fs': 500, 'sig_len': 78684614, 'n_sig': 1, 'base_date': None, 'base_time': None, 'units': ['mV'], 'sig_name': ['II'], 'comments': []}\n",
      "RESP DATA: {'fs': 50, 'sig_len': 7868296, 'n_sig': 1, 'base_date': None, 'base_time': None, 'units': ['NU'], 'sig_name': ['RESP'], 'comments': []}\n",
      "157369.228 sec, 2622.8204666666666 minutes, 43.71367444444444 hours\n",
      "157365.92 sec, 2622.7653333333337 minutes, 43.71275555555556 hours\n"
     ]
    }
   ],
   "source": [
    "# Read all the data\n",
    "signal_ecg_0 = wfdb.rdsamp(f\"{data_dir}/infant{infantNum}_ecg\")\n",
    "signal_resp_0 = wfdb.rdsamp(f\"{data_dir}/infant{infantNum}_resp\")\n",
    "print(f'ECG DATA: {signal_ecg_0[1]}')\n",
    "print(F'RESP DATA: {signal_resp_0[1]}')\n",
    "totalDuration_ECG = num2Time(num=signal_ecg_0[1]['sig_len'], fs=signal_ecg_0[1]['fs'])\n",
    "print(f'{totalDuration_ECG} sec, {secs2minutes(totalDuration_ECG)} minutes, {secs2hours(totalDuration_ECG)} hours')\n",
    "totalDuration_RESP = num2Time(num=signal_resp_0[1]['sig_len'], fs=signal_resp_0[1]['fs'])\n",
    "print(f'{totalDuration_RESP} sec, {secs2minutes(totalDuration_RESP)} minutes, {secs2hours(totalDuration_RESP)} hours')"
   ]
  },
  {
   "cell_type": "code",
   "execution_count": 4,
   "metadata": {},
   "outputs": [
    {
     "name": "stdout",
     "output_type": "stream",
     "text": [
      "start: 1800000, end: 1980000\n",
      "start: 180000, end: 198000\n"
     ]
    }
   ],
   "source": [
    "# Start and end time defined\n",
    "start_time_secs = hours2secs(1)\n",
    "end_time_secs = hours2secs(1.1)\n",
    "\n",
    "ECG_startNum = time2Num(start_time_secs, signal_ecg_0[1]['fs'])\n",
    "ECG_endNum = time2Num(end_time_secs, signal_ecg_0[1]['fs'])\n",
    "print(f'start: {ECG_startNum}, end: {ECG_endNum}')\n",
    "RESP_startNum = time2Num(start_time_secs, signal_resp_0[1]['fs'])\n",
    "RESP_endNum = time2Num(end_time_secs, signal_resp_0[1]['fs'])\n",
    "print(f'start: {RESP_startNum}, end: {RESP_endNum}')"
   ]
  },
  {
   "cell_type": "code",
   "execution_count": 5,
   "metadata": {},
   "outputs": [],
   "source": [
    "signal_ECG, signal_ECG_startTime_secs, signal_ECG_endTime_secs = read_Data(ECG_dataset, startNum=ECG_startNum, endNum=ECG_endNum)\n",
    "signal_RESP, signal_RESP_startTime_secs, signal_RESP_endTime_secs = read_Data(RESP_dataset, startNum=RESP_startNum, endNum=RESP_endNum)"
   ]
  },
  {
   "cell_type": "code",
   "execution_count": 6,
   "metadata": {},
   "outputs": [
    {
     "name": "stdout",
     "output_type": "stream",
     "text": [
      "(180000, 1)\n",
      "90th percentile: 0.16400837520909167, 10th percentile: -0.23755355254763474, IQR: 0.4015619277567264\n",
      "Identified outliers: 5878\n",
      "Data Shape: (180000,)\n",
      "(18000, 1)\n",
      "90th percentile: 24.07121214669968, 10th percentile: 20.537240474173423, IQR: 3.533971672526256\n",
      "Identified outliers: 0\n",
      "Data Shape: (18000,)\n"
     ]
    }
   ],
   "source": [
    "print(signal_ECG[0].shape)\n",
    "signal_ECG_1 = iqr_smooth(signal=signal_ECG[0],hiPerc=90,loPerc=10, cutoff_factor=1.5)\n",
    "print(signal_RESP[0].shape)\n",
    "signal_RESP_1 = iqr_smooth(signal=signal_RESP[0],hiPerc=90,loPerc=10, cutoff_factor=1.5)"
   ]
  },
  {
   "cell_type": "code",
   "execution_count": 7,
   "metadata": {},
   "outputs": [],
   "source": [
    "signal_ECG_2 = norm_signal(signal=signal_ECG_1)\n",
    "signal_RESP_2 = norm_signal(signal=signal_RESP_1)"
   ]
  },
  {
   "cell_type": "code",
   "execution_count": 8,
   "metadata": {},
   "outputs": [],
   "source": [
    "hrs_0 = cal_heartrate(signal=signal_ECG_2, fs=signal_ECG[1]['fs'])\n",
    "rrs_0 = cal_resprate(signal=signal_RESP_2, fs=signal_RESP[1]['fs'])"
   ]
  },
  {
   "cell_type": "code",
   "execution_count": 9,
   "metadata": {},
   "outputs": [],
   "source": [
    "if (rrs_0.shape[0] < hrs_0.shape[0]):\n",
    "    hrs_1 = data_resample(data_fixNan(hrs_0), rrs_0.shape[0])\n",
    "    rrs_1 = data_fixNan(rrs_0)\n",
    "else:\n",
    "    rrs_1 = data_resample(data_fixNan(rrs_0), hrs_0.shape[0])\n",
    "    hrs_1 = data_fixNan(hrs_0)"
   ]
  },
  {
   "cell_type": "code",
   "execution_count": 10,
   "metadata": {},
   "outputs": [
    {
     "name": "stdout",
     "output_type": "stream",
     "text": [
      "[[122.07513205   7.65642101]\n",
      " [  7.65642101 236.67705368]]\n",
      "Pearsons correlation: 0.045\n",
      "Spearmans correlation: -0.000\n"
     ]
    }
   ],
   "source": [
    "correlationTest(rrs_1[:],hrs_1[:], plot=False)"
   ]
  },
  {
   "cell_type": "code",
   "execution_count": 14,
   "metadata": {},
   "outputs": [
    {
     "name": "stdout",
     "output_type": "stream",
     "text": [
      "---------------------------------------------\n",
      "--- Linear Regression ---\n",
      "Coefficient of determination: 0.0007165269884934489\n",
      "Intercept: [132.83582]\n",
      "Coefficients: [[0.03655011]]\n",
      "Mean absolute error: 9.82\n",
      "Mean squared error: 271.05\n",
      "Root mean squared error: 16.46\n",
      "---------------------------------------------\n",
      "--- Polynomial Regression ---\n",
      "Coefficient of determination: 0.0035129194646540407\n",
      "Intercept: [132.30956]\n",
      "Coefficients: [[ 1.7846973e-09  1.7162066e-07  1.4565144e-06  2.1669961e-05\n",
      "  -8.8894620e-07  9.0774392e-09]]\n",
      "Mean absolute error: 9.79\n",
      "Mean squared error: 254.02\n",
      "Root mean squared error: 15.94\n",
      "---------------------------------------------\n",
      "--- SVR ---\n",
      "Coefficient of determination: 0.02657206466942219\n",
      "Intercept: [-0.15144076]\n",
      "Mean absolute error: 11.09\n",
      "Mean squared error: 285.78\n",
      "Root mean squared error: 16.90\n"
     ]
    }
   ],
   "source": [
    "print(\"---------------------------------------------\")\n",
    "print(\"--- Linear Regression ---\")\n",
    "lr_model_1 = train_lr_model(X=rrs_1, y=hrs_1)\n",
    "print(\"---------------------------------------------\")\n",
    "print(\"--- Polynomial Regression ---\")\n",
    "pr_model_1 = train_pr_model(X=rrs_1, y=hrs_1, degree=6)\n",
    "print(\"---------------------------------------------\")\n",
    "print(\"--- SVR ---\")\n",
    "svr_rbf_1 = train_svr_rbf_model(X=rrs_1, y=hrs_1, param_C=100, param_gamma=0.1, seed=42)"
   ]
  },
  {
   "cell_type": "code",
   "execution_count": 15,
   "metadata": {},
   "outputs": [
    {
     "name": "stdout",
     "output_type": "stream",
     "text": [
      "Coefficient of determination: -0.024870739347682358\n",
      "Intercept: [0.63527783]\n",
      "Mean absolute error: 10.90\n",
      "Mean squared error: 298.09\n",
      "Root mean squared error: 17.27\n"
     ]
    }
   ],
   "source": [
    "svr_lin_1 = train_svr_lin_model(X=rrs_1, y=hrs_1, param_C=1000, param_gamma='auto', seed=42)"
   ]
  },
  {
   "cell_type": "code",
   "execution_count": 20,
   "metadata": {},
   "outputs": [
    {
     "name": "stdout",
     "output_type": "stream",
     "text": [
      "Coefficient of determination: -0.046168141296713205\n",
      "Intercept: [0.63503046]\n",
      "Mean absolute error: 11.27\n",
      "Mean squared error: 311.37\n",
      "Root mean squared error: 17.65\n"
     ]
    }
   ],
   "source": [
    "svr_poly_1 = train_svr_poly_model(X=rrs_1, y=hrs_1, param_C=1000, param_gamma='auto', param_degree=6, seed=42)"
   ]
  }
 ],
 "metadata": {
  "kernelspec": {
   "display_name": "mcs_aml_venv_1",
   "language": "python",
   "name": "python3"
  },
  "language_info": {
   "codemirror_mode": {
    "name": "ipython",
    "version": 3
   },
   "file_extension": ".py",
   "mimetype": "text/x-python",
   "name": "python",
   "nbconvert_exporter": "python",
   "pygments_lexer": "ipython3",
   "version": "3.10.6"
  },
  "orig_nbformat": 4,
  "vscode": {
   "interpreter": {
    "hash": "a14dbdb1f72aaa09167b48d00cde9d80f1c9c9222724b1b54b66fa4b88a3fbfb"
   }
  }
 },
 "nbformat": 4,
 "nbformat_minor": 2
}
