{
 "cells": [
  {
   "cell_type": "code",
   "execution_count": 2,
   "metadata": {},
   "outputs": [],
   "source": [
    "import wfdb\n",
    "from wfdb import processing\n",
    "import matplotlib.pyplot as plt\n",
    "import numpy as np\n",
    "import pandas as pd\n",
    "import scipy\n",
    "from scipy.fft import fft, fftfreq\n",
    "import os\n",
    "import shutil\n",
    "import posixpath\n",
    "import math\n",
    "data_dir = \"../data\""
   ]
  },
  {
   "cell_type": "code",
   "execution_count": 8,
   "metadata": {},
   "outputs": [
    {
     "name": "stdout",
     "output_type": "stream",
     "text": [
      "ECG Data EDA\n",
      "    fs    sig_len n_sig base_date base_time units sig_name comments infant\n",
      "0  500   85083254     1      None      None  [mV]      [I]       []     10\n",
      "1  500  126569088     1      None      None  [mV]     [II]       []      9\n",
      "2  500   44288000     1      None      None  [mV]     [II]       []      8\n",
      "3  500   36604500     1      None      None  [mV]     [II]       []      7\n",
      "4  500   87492197     1      None      None  [mV]     [II]       []      6\n",
      "5  250   43878723     1      None      None  [mV]    [ECG]       []      5\n",
      "6  500   84208000     1      None      None  [mV]     [II]       []      4\n",
      "7  500   78684614     1      None      None  [mV]     [II]       []      3\n",
      "8  500   78916000     1      None      None  [mV]     [II]       []      2\n",
      "9  250   41052191     1      None      None  [mV]    [ECG]       []      1\n",
      "Respiratory Data EDA\n",
      "    fs   sig_len n_sig base_date base_time units sig_name comments infant\n",
      "0   50   8508154     1      None      None  [NU]   [RESP]       []     10\n",
      "1   50  12656784     1      None      None  [NU]   [RESP]       []      9\n",
      "2   50   4428613     1      None      None  [NU]   [RESP]       []      8\n",
      "3   50   3660288     1      None      None  [NU]   [RESP]       []      7\n",
      "4   50   8749057     1      None      None  [NU]   [RESP]       []      6\n",
      "5   50   8955598     1      None      None  [NU]   [RESP]       []      5\n",
      "6   50   8420800     1      None      None  [NU]   [RESP]       []      4\n",
      "7   50   7868296     1      None      None  [NU]   [RESP]       []      3\n",
      "8   50   7891433     1      None      None  [NU]   [RESP]       []      2\n",
      "9  500  82122000     1      None      None  [NU]   [RESP]       []      1\n"
     ]
    }
   ],
   "source": [
    "fields_ecg_df = pd.DataFrame()\n",
    "for i in range(1, 11, 1):\n",
    "    signals_ecg_i, fields_ecg_i = wfdb.rdsamp(record_name=f'{data_dir}/infant{i}_ecg')\n",
    "    fields_ecg_i['infant']=i\n",
    "    fields_ecg_i_df = pd.DataFrame.from_dict(fields_ecg_i, orient='index').T\n",
    "    fields_ecg_df = pd.concat([fields_ecg_i_df, fields_ecg_df], ignore_index=True)\n",
    "print(\"ECG Data EDA\")\n",
    "print(fields_ecg_df)\n",
    "# fields_ecg_i1\n",
    "# fields_ecg_i1_df = pd.DataFrame.from_dict(fields_ecg_i1, orient='index').T\n",
    "# fields_ecg_i1_df\n",
    "fields_resp_df = pd.DataFrame()\n",
    "for i in range(1, 11, 1):\n",
    "    signals_resp_i, fields_resp_i = wfdb.rdsamp(record_name=f'{data_dir}/infant{i}_resp')\n",
    "    fields_resp_i['infant']=i\n",
    "    fields_resp_i_df = pd.DataFrame.from_dict(fields_resp_i, orient='index').T\n",
    "    fields_resp_df = pd.concat([fields_resp_i_df, fields_resp_df], ignore_index=True)\n",
    "print(\"Respiratory Data EDA\")\n",
    "print(fields_resp_df)"
   ]
  },
  {
   "cell_type": "code",
   "execution_count": 6,
   "metadata": {},
   "outputs": [
    {
     "name": "stdout",
     "output_type": "stream",
     "text": [
      "{'fs': 250, 'sig_len': 41052191, 'n_sig': 1, 'base_date': None, 'base_time': None, 'units': ['mV'], 'sig_name': ['ECG'], 'comments': []}\n",
      "{'fs': 250, 'sig_len': 41052191, 'n_sig': 1, 'base_date': None, 'base_time': None, 'units': ['mV'], 'sig_name': ['ECG'], 'comments': [], 'infant': 1}\n"
     ]
    }
   ],
   "source": [
    "signals_ecg_i, fields_ecg_i = wfdb.rdsamp(record_name=f'{data_dir}/infant1_ecg')\n",
    "print(fields_ecg_i)\n",
    "fields_ecg_i['infant']=1\n",
    "print(fields_ecg_i)"
   ]
  },
  {
   "cell_type": "code",
   "execution_count": 3,
   "metadata": {},
   "outputs": [],
   "source": [
    "infant1_ecg = wfdb.rdrecord(record_name=f'{data_dir}/infant1_ecg')\n",
    "infant2_ecg = wfdb.rdrecord(record_name=f'{data_dir}/infant2_ecg')\n",
    "# print(type(ecg_1))\n",
    "infant1_ecg_df = infant1_ecg.to_dataframe()\n",
    "infant2_ecg_df = infant2_ecg.to_dataframe()\n",
    "# print(type(ecg_df_1))\n",
    "# ecg_df_1"
   ]
  },
  {
   "cell_type": "code",
   "execution_count": 8,
   "metadata": {},
   "outputs": [
    {
     "data": {
      "text/html": [
       "<div>\n",
       "<style scoped>\n",
       "    .dataframe tbody tr th:only-of-type {\n",
       "        vertical-align: middle;\n",
       "    }\n",
       "\n",
       "    .dataframe tbody tr th {\n",
       "        vertical-align: top;\n",
       "    }\n",
       "\n",
       "    .dataframe thead th {\n",
       "        text-align: right;\n",
       "    }\n",
       "</style>\n",
       "<table border=\"1\" class=\"dataframe\">\n",
       "  <thead>\n",
       "    <tr style=\"text-align: right;\">\n",
       "      <th></th>\n",
       "      <th>ECG</th>\n",
       "    </tr>\n",
       "  </thead>\n",
       "  <tbody>\n",
       "    <tr>\n",
       "      <th>0 days 00:00:00</th>\n",
       "      <td>-0.019984</td>\n",
       "    </tr>\n",
       "    <tr>\n",
       "      <th>0 days 00:00:00.004000</th>\n",
       "      <td>-0.019984</td>\n",
       "    </tr>\n",
       "    <tr>\n",
       "      <th>0 days 00:00:00.008000</th>\n",
       "      <td>-0.014988</td>\n",
       "    </tr>\n",
       "    <tr>\n",
       "      <th>0 days 00:00:00.012000</th>\n",
       "      <td>-0.004996</td>\n",
       "    </tr>\n",
       "    <tr>\n",
       "      <th>0 days 00:00:00.016000</th>\n",
       "      <td>-0.004996</td>\n",
       "    </tr>\n",
       "    <tr>\n",
       "      <th>...</th>\n",
       "      <td>...</td>\n",
       "    </tr>\n",
       "    <tr>\n",
       "      <th>1 days 21:36:48.744000</th>\n",
       "      <td>-0.294757</td>\n",
       "    </tr>\n",
       "    <tr>\n",
       "      <th>1 days 21:36:48.748000</th>\n",
       "      <td>-0.338471</td>\n",
       "    </tr>\n",
       "    <tr>\n",
       "      <th>1 days 21:36:48.752000</th>\n",
       "      <td>-0.314740</td>\n",
       "    </tr>\n",
       "    <tr>\n",
       "      <th>1 days 21:36:48.756000</th>\n",
       "      <td>-0.078685</td>\n",
       "    </tr>\n",
       "    <tr>\n",
       "      <th>1 days 21:36:48.760000</th>\n",
       "      <td>0.335973</td>\n",
       "    </tr>\n",
       "  </tbody>\n",
       "</table>\n",
       "<p>41052191 rows × 1 columns</p>\n",
       "</div>"
      ],
      "text/plain": [
       "                             ECG\n",
       "0 days 00:00:00        -0.019984\n",
       "0 days 00:00:00.004000 -0.019984\n",
       "0 days 00:00:00.008000 -0.014988\n",
       "0 days 00:00:00.012000 -0.004996\n",
       "0 days 00:00:00.016000 -0.004996\n",
       "...                          ...\n",
       "1 days 21:36:48.744000 -0.294757\n",
       "1 days 21:36:48.748000 -0.338471\n",
       "1 days 21:36:48.752000 -0.314740\n",
       "1 days 21:36:48.756000 -0.078685\n",
       "1 days 21:36:48.760000  0.335973\n",
       "\n",
       "[41052191 rows x 1 columns]"
      ]
     },
     "execution_count": 8,
     "metadata": {},
     "output_type": "execute_result"
    }
   ],
   "source": [
    "infant1_ecg_df"
   ]
  },
  {
   "cell_type": "code",
   "execution_count": 5,
   "metadata": {},
   "outputs": [
    {
     "data": {
      "text/html": [
       "<div>\n",
       "<style scoped>\n",
       "    .dataframe tbody tr th:only-of-type {\n",
       "        vertical-align: middle;\n",
       "    }\n",
       "\n",
       "    .dataframe tbody tr th {\n",
       "        vertical-align: top;\n",
       "    }\n",
       "\n",
       "    .dataframe thead th {\n",
       "        text-align: right;\n",
       "    }\n",
       "</style>\n",
       "<table border=\"1\" class=\"dataframe\">\n",
       "  <thead>\n",
       "    <tr style=\"text-align: right;\">\n",
       "      <th></th>\n",
       "      <th>ECG</th>\n",
       "    </tr>\n",
       "  </thead>\n",
       "  <tbody>\n",
       "    <tr>\n",
       "      <th>count</th>\n",
       "      <td>4.105219e+07</td>\n",
       "    </tr>\n",
       "    <tr>\n",
       "      <th>mean</th>\n",
       "      <td>-1.884517e-01</td>\n",
       "    </tr>\n",
       "    <tr>\n",
       "      <th>std</th>\n",
       "      <td>2.565324e+00</td>\n",
       "    </tr>\n",
       "    <tr>\n",
       "      <th>min</th>\n",
       "      <td>-4.095997e+01</td>\n",
       "    </tr>\n",
       "    <tr>\n",
       "      <th>25%</th>\n",
       "      <td>-1.273949e-01</td>\n",
       "    </tr>\n",
       "    <tr>\n",
       "      <th>50%</th>\n",
       "      <td>-5.245674e-02</td>\n",
       "    </tr>\n",
       "    <tr>\n",
       "      <th>75%</th>\n",
       "      <td>8.742790e-03</td>\n",
       "    </tr>\n",
       "    <tr>\n",
       "      <th>max</th>\n",
       "      <td>4.089003e+01</td>\n",
       "    </tr>\n",
       "  </tbody>\n",
       "</table>\n",
       "</div>"
      ],
      "text/plain": [
       "                ECG\n",
       "count  4.105219e+07\n",
       "mean  -1.884517e-01\n",
       "std    2.565324e+00\n",
       "min   -4.095997e+01\n",
       "25%   -1.273949e-01\n",
       "50%   -5.245674e-02\n",
       "75%    8.742790e-03\n",
       "max    4.089003e+01"
      ]
     },
     "execution_count": 5,
     "metadata": {},
     "output_type": "execute_result"
    }
   ],
   "source": [
    "infant1_ecg_df.describe()"
   ]
  },
  {
   "cell_type": "code",
   "execution_count": 6,
   "metadata": {},
   "outputs": [
    {
     "data": {
      "text/plain": [
       "<AxesSubplot: >"
      ]
     },
     "execution_count": 6,
     "metadata": {},
     "output_type": "execute_result"
    },
    {
     "data": {
      "image/png": "[encoded data removed]",
      "text/plain": [
       "<Figure size 640x480 with 1 Axes>"
      ]
     },
     "metadata": {},
     "output_type": "display_data"
    }
   ],
   "source": [
    "infant1_ecg_df.boxplot()"
   ]
  },
  {
   "cell_type": "code",
   "execution_count": 7,
   "metadata": {},
   "outputs": [
    {
     "name": "stdout",
     "output_type": "stream",
     "text": [
      "<class 'pandas.core.frame.DataFrame'>\n",
      "TimedeltaIndex: 41052191 entries, 0 days 00:00:00 to 1 days 21:36:48.760000\n",
      "Freq: 4L\n",
      "Data columns (total 1 columns):\n",
      " #   Column  Dtype  \n",
      "---  ------  -----  \n",
      " 0   ECG     float64\n",
      "dtypes: float64(1)\n",
      "memory usage: 626.4 MB\n"
     ]
    }
   ],
   "source": [
    "infant1_ecg_df.info()"
   ]
  },
  {
   "cell_type": "code",
   "execution_count": null,
   "metadata": {},
   "outputs": [],
   "source": []
  }
 ],
 "metadata": {
  "kernelspec": {
   "display_name": "mcs_aml_venv_1",
   "language": "python",
   "name": "python3"
  },
  "language_info": {
   "codemirror_mode": {
    "name": "ipython",
    "version": 3
   },
   "file_extension": ".py",
   "mimetype": "text/x-python",
   "name": "python",
   "nbconvert_exporter": "python",
   "pygments_lexer": "ipython3",
   "version": "3.10.6 (tags/v3.10.6:9c7b4bd, Aug  1 2022, 21:53:49) [MSC v.1932 64 bit (AMD64)]"
  },
  "orig_nbformat": 4,
  "vscode": {
   "interpreter": {
    "hash": "a14dbdb1f72aaa09167b48d00cde9d80f1c9c9222724b1b54b66fa4b88a3fbfb"
   }
  }
 },
 "nbformat": 4,
 "nbformat_minor": 2
}
