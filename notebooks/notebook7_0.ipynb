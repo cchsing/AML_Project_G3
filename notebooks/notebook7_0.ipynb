{
 "cells": [
  {
   "cell_type": "code",
   "execution_count": 1,
   "metadata": {},
   "outputs": [],
   "source": [
    "from Lib.myModules.my_ML_Modules_1 import *\n",
    "import math\n",
    "import sys\n",
    "import contextlib"
   ]
  },
  {
   "cell_type": "code",
   "execution_count": 2,
   "metadata": {},
   "outputs": [
    {
     "name": "stdout",
     "output_type": "stream",
     "text": [
      "ECG DATA: {'fs': 500, 'sig_len': 36604500, 'n_sig': 1, 'base_date': None, 'base_time': None, 'units': ['mV'], 'sig_name': ['II'], 'comments': []}\n",
      "RESP DATA: {'fs': 50, 'sig_len': 3660288, 'n_sig': 1, 'base_date': None, 'base_time': None, 'units': ['NU'], 'sig_name': ['RESP'], 'comments': []}\n",
      "73209.0 sec, 1220.15 minutes, 20.335833333333333 hours\n",
      "73205.76 sec, 1220.096 minutes, 20.334933333333332 hours\n"
     ]
    }
   ],
   "source": [
    "data_dir = \"../data\"\n",
    "infantNum = 7\n",
    "ECG_dataset = f\"{data_dir}/infant{infantNum}_ecg\"\n",
    "RESP_dataset = f\"{data_dir}/infant{infantNum}_resp\"\n",
    "# Read all the data\n",
    "signal_ecg_0 = wfdb.rdsamp(f\"{data_dir}/infant{infantNum}_ecg\")\n",
    "signal_resp_0 = wfdb.rdsamp(f\"{data_dir}/infant{infantNum}_resp\")\n",
    "print(f'ECG DATA: {signal_ecg_0[1]}')\n",
    "print(F'RESP DATA: {signal_resp_0[1]}')\n",
    "totalDuration_ECG = num2Time(num=signal_ecg_0[1]['sig_len'], fs=signal_ecg_0[1]['fs'])\n",
    "print(f'{totalDuration_ECG} sec, {secs2minutes(totalDuration_ECG)} minutes, {secs2hours(totalDuration_ECG)} hours')\n",
    "totalDuration_RESP = num2Time(num=signal_resp_0[1]['sig_len'], fs=signal_resp_0[1]['fs'])\n",
    "print(f'{totalDuration_RESP} sec, {secs2minutes(totalDuration_RESP)} minutes, {secs2hours(totalDuration_RESP)} hours')"
   ]
  },
  {
   "cell_type": "code",
   "execution_count": 3,
   "metadata": {},
   "outputs": [
    {
     "name": "stdout",
     "output_type": "stream",
     "text": [
      "start: 1800000, end: 1980000\n",
      "start: 180000, end: 198000\n",
      "90th percentile: 0.13163502856402232, 10th percentile: -0.19394746812095595, IQR: 0.3255824966849783\n",
      "Identified outliers: 4384\n",
      "Data Shape: (180000,)\n",
      "90th percentile: 16.799460791688748, 10th percentile: 13.103400356137513, IQR: 3.696060435551235\n",
      "Identified outliers: 40\n",
      "Data Shape: (18000,)\n",
      "[[148.23132673   0.88265237]\n",
      " [  0.88265237 473.510453  ]]\n",
      "Pearsons correlation: 0.003\n",
      "Spearmans correlation: -0.003\n",
      "---------------------------------------------\n",
      "--- Linear Regression ---\n",
      "Coefficient of determination: 3.7373550835217983e-06\n",
      "Intercept: [158.08038]\n",
      "Coefficients: [[-0.00344777]]\n",
      "Mean absolute error: 13.82\n",
      "Mean squared error: 472.49\n",
      "Root mean squared error: 21.74\n",
      "---------------------------------------------\n",
      "--- Polynomial Regression ---\n",
      "Coefficient of determination: 0.004533169777868218\n",
      "Intercept: [160.49753]\n",
      "Coefficients: [[-2.7260267e-09 -1.3486317e-07 -2.0376071e-06 -2.9506271e-05\n",
      "   1.1621796e-06 -1.1443376e-08]]\n",
      "Mean absolute error: 14.31\n",
      "Mean squared error: 503.06\n",
      "Root mean squared error: 22.43\n",
      "---------------------------------------------\n",
      "--- SVR Radius Basis Function---\n",
      "Coefficient of determination: -0.011476641409642552\n",
      "Intercept: [0.00536349]\n",
      "Mean absolute error: 16.31\n",
      "Mean squared error: 532.18\n",
      "Root mean squared error: 23.07\n",
      "--- SVR Linear ---\n",
      "Coefficient of determination: -0.041391933180380036\n",
      "Intercept: [0.57604381]\n",
      "Mean absolute error: 16.67\n",
      "Mean squared error: 552.79\n",
      "Root mean squared error: 23.51\n",
      "--- SVR Polynomial ---\n",
      "Coefficient of determination: -0.03807609099805731\n",
      "Intercept: [0.57433216]\n",
      "Mean absolute error: 16.60\n",
      "Mean squared error: 550.29\n",
      "Root mean squared error: 23.46\n"
     ]
    }
   ],
   "source": [
    "# initialize the training\n",
    "start_time_secs = hours2secs(1)\n",
    "end_time_secs = hours2secs(1.1)\n",
    "lr_model, pr_model, svr_rbf_model, svr_lin_model, svr_poly_model = training_pipeline(start_time_secs=start_time_secs, \n",
    "                                                                                     end_time_secs=end_time_secs, \n",
    "                                                                                     signal_ecg_0=signal_ecg_0,\n",
    "                                                                                     signal_resp_0=signal_resp_0,\n",
    "                                                                                     ECG_dataset=ECG_dataset,\n",
    "                                                                                     RESP_dataset=RESP_dataset)"
   ]
  },
  {
   "cell_type": "code",
   "execution_count": 4,
   "metadata": {},
   "outputs": [],
   "source": [
    "step = 0.25\n",
    "logFilePath = f\"../logs/infant{infantNum}_train_output_step{step}.log\"\n",
    "\n",
    "with open(logFilePath, 'a') as f:\n",
    "    with contextlib.redirect_stdout(f):\n",
    "        for i in np.arange(10, 20, step):\n",
    "            print(\"-------------------------------------------------------------------------\")\n",
    "            print(f\"Data bin index: {i:.1f}\")\n",
    "            start_time_secs = hours2secs(i)\n",
    "            end_time_secs = hours2secs(i+step)\n",
    "            lr_model, pr_model, svr_rbf_model, svr_lin_model, svr_poly_model = cascade_training_pipeline(lr_model=lr_model, \n",
    "                                                                                                         pr_model=pr_model, \n",
    "                                                                                                         svr_rbf_model=svr_rbf_model, \n",
    "                                                                                                         svr_lin_model=svr_lin_model, \n",
    "                                                                                                         svr_poly_model=svr_poly_model, \n",
    "                                                                                                         start_time_secs=start_time_secs, \n",
    "                                                                                                         end_time_secs=end_time_secs,\n",
    "                                                                                                         signal_ecg_0=signal_ecg_0,\n",
    "                                                                                                         signal_resp_0=signal_resp_0,\n",
    "                                                                                                         ECG_dataset=ECG_dataset,\n",
    "                                                                                                         RESP_dataset=RESP_dataset)"
   ]
  },
  {
   "cell_type": "code",
   "execution_count": 5,
   "metadata": {},
   "outputs": [],
   "source": [
    "# save the model\n",
    "for i in [lr_model, pr_model, svr_rbf_model, svr_lin_model, svr_poly_model]:\n",
    "    filename = f\"../models/infant_{infantNum}/{i}_step{step}.sav\"\n",
    "    joblib.dump(i, filename)\n"
   ]
  }
 ],
 "metadata": {
  "kernelspec": {
   "display_name": "mcs_aml_venv_1",
   "language": "python",
   "name": "python3"
  },
  "language_info": {
   "codemirror_mode": {
    "name": "ipython",
    "version": 3
   },
   "file_extension": ".py",
   "mimetype": "text/x-python",
   "name": "python",
   "nbconvert_exporter": "python",
   "pygments_lexer": "ipython3",
   "version": "3.10.6"
  },
  "orig_nbformat": 4,
  "vscode": {
   "interpreter": {
    "hash": "a14dbdb1f72aaa09167b48d00cde9d80f1c9c9222724b1b54b66fa4b88a3fbfb"
   }
  }
 },
 "nbformat": 4,
 "nbformat_minor": 2
}
