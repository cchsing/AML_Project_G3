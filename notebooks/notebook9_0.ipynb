{
 "cells": [
  {
   "cell_type": "code",
   "execution_count": 1,
   "metadata": {},
   "outputs": [],
   "source": [
    "from Lib.myModules.my_ML_Modules_1 import *\n",
    "import math\n",
    "import sys\n",
    "import contextlib"
   ]
  },
  {
   "cell_type": "code",
   "execution_count": 2,
   "metadata": {},
   "outputs": [
    {
     "name": "stdout",
     "output_type": "stream",
     "text": [
      "ECG DATA: {'fs': 500, 'sig_len': 78684614, 'n_sig': 1, 'base_date': None, 'base_time': None, 'units': ['mV'], 'sig_name': ['II'], 'comments': []}\n",
      "RESP DATA: {'fs': 50, 'sig_len': 7868296, 'n_sig': 1, 'base_date': None, 'base_time': None, 'units': ['NU'], 'sig_name': ['RESP'], 'comments': []}\n",
      "157369.228 sec, 2622.8204666666666 minutes, 43.71367444444444 hours\n",
      "157365.92 sec, 2622.7653333333337 minutes, 43.71275555555556 hours\n"
     ]
    }
   ],
   "source": [
    "# Read all data\n",
    "data_dir = \"../data\"\n",
    "infantNum = 9\n",
    "ECG_dataset = f\"{data_dir}/infant{infantNum}_ecg\"\n",
    "RESP_dataset = f\"{data_dir}/infant{infantNum}_resp\"\n",
    "\n",
    "signal_ecg_0 = wfdb.rdsamp(f\"{data_dir}/infant{infantNum}_ecg\")\n",
    "signal_resp_0 = wfdb.rdsamp(f\"{data_dir}/infant{infantNum}_resp\")\n",
    "print(f'ECG DATA: {signal_ecg_0[1]}')\n",
    "print(F'RESP DATA: {signal_resp_0[1]}')\n",
    "totalDuration_ECG = num2Time(num=signal_ecg_0[1]['sig_len'], fs=signal_ecg_0[1]['fs'])\n",
    "print(f'{totalDuration_ECG} sec, {secs2minutes(totalDuration_ECG)} minutes, {secs2hours(totalDuration_ECG)} hours')\n",
    "totalDuration_RESP = num2Time(num=signal_resp_0[1]['sig_len'], fs=signal_resp_0[1]['fs'])\n",
    "print(f'{totalDuration_RESP} sec, {secs2minutes(totalDuration_RESP)} minutes, {secs2hours(totalDuration_RESP)} hours')"
   ]
  },
  {
   "cell_type": "code",
   "execution_count": 3,
   "metadata": {},
   "outputs": [],
   "source": [
    "start_time_secs = hours2secs(2)\n",
    "end_time_secs = hours2secs(6)"
   ]
  },
  {
   "cell_type": "code",
   "execution_count": 4,
   "metadata": {},
   "outputs": [],
   "source": [
    "def data_bin(start_time_secs, end_time_secs, signal_ecg_0, signal_resp_0, ECG_dataset, RESP_dataset):\n",
    "    ECG_startNum = time2Num(start_time_secs, signal_ecg_0[1]['fs'])\n",
    "    ECG_endNum = time2Num(end_time_secs, signal_ecg_0[1]['fs'])\n",
    "    print(f'start: {ECG_startNum}, end: {ECG_endNum}')\n",
    "    RESP_startNum = time2Num(start_time_secs, signal_resp_0[1]['fs'])\n",
    "    RESP_endNum = time2Num(end_time_secs, signal_resp_0[1]['fs'])\n",
    "    print(f'start: {RESP_startNum}, end: {RESP_endNum}')\n",
    "    signal_ECG, signal_ECG_startTime_secs, signal_ECG_endTime_secs = read_Data(ECG_dataset, startNum=ECG_startNum, endNum=ECG_endNum)\n",
    "    signal_RESP, signal_RESP_startTime_secs, signal_RESP_endTime_secs = read_Data(RESP_dataset, startNum=RESP_startNum, endNum=RESP_endNum)\n",
    "    # print(signal_ECG[0].shape)\n",
    "    signal_ECG_1 = iqr_smooth(signal=signal_ECG[0],hiPerc=90,loPerc=10, cutoff_factor=1)\n",
    "    # print(signal_RESP[0].shape)\n",
    "    signal_RESP_1 = iqr_smooth(signal=signal_RESP[0],hiPerc=90,loPerc=10, cutoff_factor=1)\n",
    "    signal_ECG_2 = norm_signal(signal=signal_ECG_1)\n",
    "    signal_RESP_2 = norm_signal(signal=signal_RESP_1)\n",
    "    hrs_0 = cal_heartrate(signal=signal_ECG_2, fs=signal_ECG[1]['fs'])\n",
    "    rrs_0 = cal_resprate(signal=signal_RESP_2, fs=signal_RESP[1]['fs'])\n",
    "    if (rrs_0.shape[0] < hrs_0.shape[0]):\n",
    "        hrs_1 = data_resample(data_fixNan(hrs_0), rrs_0.shape[0])\n",
    "        rrs_1 = data_fixNan(rrs_0)\n",
    "    else:\n",
    "        rrs_1 = data_resample(data_fixNan(rrs_0), hrs_0.shape[0])\n",
    "        hrs_1 = data_fixNan(hrs_0)\n",
    "    return rrs_1, hrs_1"
   ]
  },
  {
   "cell_type": "code",
   "execution_count": 5,
   "metadata": {},
   "outputs": [],
   "source": [
    "def test_lr_model(model, X, y, **kwargs):\n",
    "    X = X.reshape((-1,1))\n",
    "    y = y.reshape((-1,1))\n",
    "\n",
    "    y_predict = model.predict(X)\n",
    "    mae = mean_absolute_error(y, y_predict)\n",
    "    mse = mean_squared_error(y, y_predict)\n",
    "    rmse = np.sqrt(mse)\n",
    "    print(f'Mean absolute error: {mae:.2f}')\n",
    "    print(f'Mean squared error: {mse:.2f}')\n",
    "    print(f'Root mean squared error: {rmse:.2f}')\n",
    "    return y_predict"
   ]
  },
  {
   "cell_type": "code",
   "execution_count": 6,
   "metadata": {},
   "outputs": [
    {
     "name": "stdout",
     "output_type": "stream",
     "text": [
      "start: 3600000, end: 10800000\n",
      "start: 360000, end: 1080000\n",
      "90th percentile: 0.13324036895660696, 10th percentile: -0.14112960132903762, IQR: 0.2743699702856446\n",
      "Identified outliers: 467139\n",
      "Data Shape: (7200000,)\n",
      "90th percentile: 23.209182714432263, 10th percentile: 20.66427639050757, IQR: 2.5449063239246925\n",
      "Identified outliers: 63184\n",
      "Data Shape: (720000,)\n"
     ]
    }
   ],
   "source": [
    "X, y = data_bin(start_time_secs=start_time_secs, \n",
    "                end_time_secs=end_time_secs, \n",
    "                signal_ecg_0=signal_ecg_0,\n",
    "                signal_resp_0=signal_resp_0,\n",
    "                ECG_dataset=ECG_dataset,\n",
    "                RESP_dataset=RESP_dataset)"
   ]
  },
  {
   "cell_type": "code",
   "execution_count": 7,
   "metadata": {},
   "outputs": [
    {
     "name": "stdout",
     "output_type": "stream",
     "text": [
      "Mean absolute error: 11.32\n",
      "Mean squared error: 342.81\n",
      "Root mean squared error: 18.52\n",
      "[[125.85673]\n",
      " [125.85673]\n",
      " [125.85673]\n",
      " ...\n",
      " [128.6383 ]\n",
      " [128.6383 ]\n",
      " [128.6383 ]]\n"
     ]
    }
   ],
   "source": [
    "filename = '../models/infant_2/lr_model_step0.25_startHrs10_endHrs12.sav'\n",
    "load_lr_models = joblib.load(filename)\n",
    "y_predict_2 = test_lr_model(model=load_lr_models, X=X, y=y)\n",
    "print(y_predict_2)"
   ]
  },
  {
   "cell_type": "code",
   "execution_count": 8,
   "metadata": {},
   "outputs": [
    {
     "name": "stdout",
     "output_type": "stream",
     "text": [
      "Mean absolute error: 11.62\n",
      "Mean squared error: 347.49\n",
      "Root mean squared error: 18.64\n",
      "[[129.28072]\n",
      " [129.28072]\n",
      " [129.28072]\n",
      " ...\n",
      " [129.46861]\n",
      " [129.46861]\n",
      " [129.46861]]\n"
     ]
    }
   ],
   "source": [
    "filename = '../models/infant_3/lr_model_step0.25_startHrs10_endHrs12.sav'\n",
    "load_lr_models = joblib.load(filename)\n",
    "y_predict_3 = test_lr_model(model=load_lr_models, X=X, y=y)\n",
    "print(y_predict_3)"
   ]
  },
  {
   "cell_type": "code",
   "execution_count": 9,
   "metadata": {},
   "outputs": [
    {
     "name": "stdout",
     "output_type": "stream",
     "text": [
      "[[125.85673]\n",
      " [125.85673]\n",
      " [125.85673]\n",
      " ...\n",
      " [128.6383 ]\n",
      " [128.6383 ]\n",
      " [128.6383 ]]\n",
      "[[129.28072]\n",
      " [129.28072]\n",
      " [129.28072]\n",
      " ...\n",
      " [129.46861]\n",
      " [129.46861]\n",
      " [129.46861]]\n"
     ]
    }
   ],
   "source": [
    "print(y_predict_2)\n",
    "print(y_predict_3)"
   ]
  },
  {
   "cell_type": "code",
   "execution_count": 10,
   "metadata": {},
   "outputs": [],
   "source": [
    "# y_predict = (y_predict_2+y_predict_3)/2\n",
    "# print(y_predict)"
   ]
  },
  {
   "cell_type": "code",
   "execution_count": 11,
   "metadata": {},
   "outputs": [
    {
     "name": "stdout",
     "output_type": "stream",
     "text": [
      "../models/infant_1/lr_model_step0.25_startHrs10_endHrs12.sav\n",
      "Mean absolute error: 27.48\n",
      "Mean squared error: 905.51\n",
      "Root mean squared error: 30.09\n",
      "../models/infant_2/lr_model_step0.25_startHrs10_endHrs12.sav\n",
      "Mean absolute error: 11.32\n",
      "Mean squared error: 342.81\n",
      "Root mean squared error: 18.52\n",
      "../models/infant_3/lr_model_step0.25_startHrs10_endHrs12.sav\n",
      "Mean absolute error: 11.62\n",
      "Mean squared error: 347.49\n",
      "Root mean squared error: 18.64\n",
      "../models/infant_4/lr_model_step0.25_startHrs10_endHrs12.sav\n",
      "Mean absolute error: 40.09\n",
      "Mean squared error: 1868.87\n",
      "Root mean squared error: 43.23\n",
      "../models/infant_5/lr_model_step0.25_startHrs10_endHrs12.sav\n",
      "Mean absolute error: 32.95\n",
      "Mean squared error: 1275.60\n",
      "Root mean squared error: 35.72\n",
      "../models/infant_6/lr_model_step0.25_startHrs10_endHrs12.sav\n",
      "Mean absolute error: 13.54\n",
      "Mean squared error: 367.42\n",
      "Root mean squared error: 19.17\n",
      "../models/infant_7/lr_model_step0.25_startHrs10_endHrs12.sav\n",
      "Mean absolute error: 33.35\n",
      "Mean squared error: 1287.11\n",
      "Root mean squared error: 35.88\n",
      "../models/infant_8/lr_model_step0.25_startHrs10_endHrs12.sav\n",
      "Mean absolute error: 13.43\n",
      "Mean squared error: 366.99\n",
      "Root mean squared error: 19.16\n",
      "-------------------------------------------------------------------------------------------\n",
      "Mean absolute error: 22.13\n",
      "Mean squared error: 630.83\n",
      "Root mean squared error: 25.12\n"
     ]
    }
   ],
   "source": [
    "step = 0.25\n",
    "startHrs = 10\n",
    "endHrs = 12\n",
    "\n",
    "filename = f\"../models/infant_1/lr_model_step{step}_startHrs{startHrs}_endHrs{endHrs}.sav\"\n",
    "print(filename)\n",
    "load_lr_models = joblib.load(filename)\n",
    "y_predict = test_lr_model(model=load_lr_models, X=X, y=y)\n",
    "\n",
    "for infantNum in range(2, 9, 1):\n",
    "    filename = f\"../models/infant_{infantNum}/lr_model_step{step}_startHrs{startHrs}_endHrs{endHrs}.sav\"\n",
    "    print(filename)\n",
    "    load_lr_models = joblib.load(filename)\n",
    "    y_predict_temp = test_lr_model(model=load_lr_models, X=X, y=y)\n",
    "    y_predict += y_predict_temp\n",
    "\n",
    "y_predict = y_predict/8\n",
    "print(\"-------------------------------------------------------------------------------------------\")\n",
    "mae = mean_absolute_error(y, y_predict)\n",
    "mse = mean_squared_error(y, y_predict)\n",
    "rmse = np.sqrt(mse)\n",
    "print(f'Mean absolute error: {mae:.2f}')\n",
    "print(f'Mean squared error: {mse:.2f}')\n",
    "print(f'Root mean squared error: {rmse:.2f}')"
   ]
  },
  {
   "cell_type": "code",
   "execution_count": 12,
   "metadata": {},
   "outputs": [
    {
     "name": "stdout",
     "output_type": "stream",
     "text": [
      "[[144.2206 ]\n",
      " [144.2206 ]\n",
      " [144.2206 ]\n",
      " ...\n",
      " [145.01698]\n",
      " [145.01698]\n",
      " [145.01698]]\n"
     ]
    }
   ],
   "source": [
    "print(y_predict)\n"
   ]
  },
  {
   "cell_type": "code",
   "execution_count": 13,
   "metadata": {},
   "outputs": [
    {
     "data": {
      "text/plain": [
       "[<matplotlib.lines.Line2D at 0x2558dc546a0>]"
      ]
     },
     "execution_count": 13,
     "metadata": {},
     "output_type": "execute_result"
    },
    {
     "data": {
      "image/png": "[encoded data removed]",
      "text/plain": [
       "<Figure size 640x480 with 1 Axes>"
      ]
     },
     "metadata": {},
     "output_type": "display_data"
    }
   ],
   "source": [
    "plt.plot(X, y_predict)\n",
    "# plt.ylim(110,150)"
   ]
  },
  {
   "cell_type": "code",
   "execution_count": 14,
   "metadata": {},
   "outputs": [],
   "source": [
    "def average_lr_model_predict(X, y):\n",
    "    step = 0.25\n",
    "    startHrs = 10\n",
    "    endHrs = 12\n",
    "\n",
    "    filename = f\"../models/infant_1/lr_model_step{step}_startHrs{startHrs}_endHrs{endHrs}.sav\"\n",
    "    print(filename)\n",
    "    load_lr_models = joblib.load(filename)\n",
    "    y_predict = test_lr_model(model=load_lr_models, X=X, y=y)\n",
    "\n",
    "    for infantNum in range(2, 9, 1):\n",
    "        filename = f\"../models/infant_{infantNum}/lr_model_step{step}_startHrs{startHrs}_endHrs{endHrs}.sav\"\n",
    "        print(filename)\n",
    "        load_lr_models = joblib.load(filename)\n",
    "        y_predict_temp = test_lr_model(model=load_lr_models, X=X, y=y)\n",
    "        y_predict += y_predict_temp\n",
    "\n",
    "    y_predict = y_predict/8\n",
    "    print(\"-------------------------------------------------------------------------------------------\")\n",
    "    mae = mean_absolute_error(y, y_predict)\n",
    "    mse = mean_squared_error(y, y_predict)\n",
    "    rmse = np.sqrt(mse)\n",
    "    print(f'Mean absolute error: {mae:.2f}')\n",
    "    print(f'Mean squared error: {mse:.2f}')\n",
    "    print(f'Root mean squared error: {rmse:.2f}')\n",
    "    return y_predict"
   ]
  },
  {
   "cell_type": "code",
   "execution_count": 15,
   "metadata": {},
   "outputs": [
    {
     "name": "stdout",
     "output_type": "stream",
     "text": [
      "../models/infant_1/lr_model_step0.25_startHrs10_endHrs12.sav\n",
      "Mean absolute error: 27.48\n",
      "Mean squared error: 905.51\n",
      "Root mean squared error: 30.09\n",
      "../models/infant_2/lr_model_step0.25_startHrs10_endHrs12.sav\n",
      "Mean absolute error: 11.32\n",
      "Mean squared error: 342.81\n",
      "Root mean squared error: 18.52\n",
      "../models/infant_3/lr_model_step0.25_startHrs10_endHrs12.sav\n",
      "Mean absolute error: 11.62\n",
      "Mean squared error: 347.49\n",
      "Root mean squared error: 18.64\n",
      "../models/infant_4/lr_model_step0.25_startHrs10_endHrs12.sav\n",
      "Mean absolute error: 40.09\n",
      "Mean squared error: 1868.87\n",
      "Root mean squared error: 43.23\n",
      "../models/infant_5/lr_model_step0.25_startHrs10_endHrs12.sav\n",
      "Mean absolute error: 32.95\n",
      "Mean squared error: 1275.60\n",
      "Root mean squared error: 35.72\n",
      "../models/infant_6/lr_model_step0.25_startHrs10_endHrs12.sav\n",
      "Mean absolute error: 13.54\n",
      "Mean squared error: 367.42\n",
      "Root mean squared error: 19.17\n",
      "../models/infant_7/lr_model_step0.25_startHrs10_endHrs12.sav\n",
      "Mean absolute error: 33.35\n",
      "Mean squared error: 1287.11\n",
      "Root mean squared error: 35.88\n",
      "../models/infant_8/lr_model_step0.25_startHrs10_endHrs12.sav\n",
      "Mean absolute error: 13.43\n",
      "Mean squared error: 366.99\n",
      "Root mean squared error: 19.16\n",
      "-------------------------------------------------------------------------------------------\n",
      "Mean absolute error: 22.13\n",
      "Mean squared error: 630.83\n",
      "Root mean squared error: 25.12\n"
     ]
    }
   ],
   "source": [
    "y_lr_predict = average_lr_model_predict(X=X,y=y)"
   ]
  },
  {
   "cell_type": "code",
   "execution_count": 16,
   "metadata": {},
   "outputs": [
    {
     "data": {
      "image/png": "[encoded data removed]",
      "text/plain": [
       "<Figure size 2000x500 with 1 Axes>"
      ]
     },
     "metadata": {},
     "output_type": "display_data"
    }
   ],
   "source": [
    "plt.figure(num=1, figsize=(20,5))\n",
    "plt.scatter(X, y_lr_predict)\n",
    "plt.ylim(140,150)\n",
    "plt.grid(True)"
   ]
  },
  {
   "cell_type": "code",
   "execution_count": 17,
   "metadata": {},
   "outputs": [],
   "source": [
    "def test_pr_model(model, X, y, degree=2, **kwargs):\n",
    "    X = X.reshape((-1,1))\n",
    "    y = y.reshape((-1,1))\n",
    "\n",
    "    transformer = PolynomialFeatures(degree=degree, include_bias=False)\n",
    "    X_poly = transformer.fit_transform(X)\n",
    "    y_predict = model.predict(X_poly)\n",
    "    mae = mean_absolute_error(y, y_predict)\n",
    "    mse = mean_squared_error(y, y_predict)\n",
    "    rmse = np.sqrt(mse)\n",
    "    print(f'Mean absolute error: {mae:.2f}')\n",
    "    print(f'Mean squared error: {mse:.2f}')\n",
    "    print(f'Root mean squared error: {rmse:.2f}')\n",
    "    return y_predict"
   ]
  },
  {
   "cell_type": "code",
   "execution_count": 18,
   "metadata": {},
   "outputs": [],
   "source": [
    "def average_pr_model_predict(X, y):\n",
    "    step = 0.25\n",
    "    startHrs = 10\n",
    "    endHrs = 12\n",
    "    degree = 6\n",
    "\n",
    "    filename = f\"../models/infant_1/pr_model_step{step}_startHrs{startHrs}_endHrs{endHrs}.sav\"\n",
    "    print(filename)\n",
    "    load_pr_models = joblib.load(filename)\n",
    "    y_predict = test_pr_model(model=load_pr_models, X=X, y=y, degree=degree)\n",
    "\n",
    "    for infantNum in range(2, 9, 1):\n",
    "        filename = f\"../models/infant_{infantNum}/pr_model_step{step}_startHrs{startHrs}_endHrs{endHrs}.sav\"\n",
    "        print(filename)\n",
    "        load_pr_models = joblib.load(filename)\n",
    "        y_predict_temp = test_pr_model(model=load_pr_models, X=X, y=y, degree=degree)\n",
    "        y_predict += y_predict_temp\n",
    "\n",
    "    y_predict = y_predict/8\n",
    "    print(\"-------------------------------------------------------------------------------------------\")\n",
    "    mae = mean_absolute_error(y, y_predict)\n",
    "    mse = mean_squared_error(y, y_predict)\n",
    "    rmse = np.sqrt(mse)\n",
    "    print(f'Mean absolute error: {mae:.2f}')\n",
    "    print(f'Mean squared error: {mse:.2f}')\n",
    "    print(f'Root mean squared error: {rmse:.2f}')\n",
    "    return y_predict"
   ]
  },
  {
   "cell_type": "code",
   "execution_count": 19,
   "metadata": {},
   "outputs": [
    {
     "name": "stdout",
     "output_type": "stream",
     "text": [
      "../models/infant_1/pr_model_step0.25_startHrs10_endHrs12.sav\n",
      "Mean absolute error: 27.57\n",
      "Mean squared error: 911.64\n",
      "Root mean squared error: 30.19\n",
      "../models/infant_2/pr_model_step0.25_startHrs10_endHrs12.sav\n",
      "Mean absolute error: 11.18\n",
      "Mean squared error: 333.18\n",
      "Root mean squared error: 18.25\n",
      "../models/infant_3/pr_model_step0.25_startHrs10_endHrs12.sav\n",
      "Mean absolute error: 11.43\n",
      "Mean squared error: 328.61\n",
      "Root mean squared error: 18.13\n",
      "../models/infant_4/pr_model_step0.25_startHrs10_endHrs12.sav\n",
      "Mean absolute error: 40.08\n",
      "Mean squared error: 1867.62\n",
      "Root mean squared error: 43.22\n",
      "../models/infant_5/pr_model_step0.25_startHrs10_endHrs12.sav\n",
      "Mean absolute error: 32.53\n",
      "Mean squared error: 1248.74\n",
      "Root mean squared error: 35.34\n",
      "../models/infant_6/pr_model_step0.25_startHrs10_endHrs12.sav\n",
      "Mean absolute error: 13.18\n",
      "Mean squared error: 358.42\n",
      "Root mean squared error: 18.93\n",
      "../models/infant_7/pr_model_step0.25_startHrs10_endHrs12.sav\n",
      "Mean absolute error: 33.43\n",
      "Mean squared error: 1284.19\n",
      "Root mean squared error: 35.84\n",
      "../models/infant_8/pr_model_step0.25_startHrs10_endHrs12.sav\n",
      "Mean absolute error: 13.08\n",
      "Mean squared error: 348.91\n",
      "Root mean squared error: 18.68\n",
      "-------------------------------------------------------------------------------------------\n",
      "Mean absolute error: 21.99\n",
      "Mean squared error: 625.08\n",
      "Root mean squared error: 25.00\n"
     ]
    }
   ],
   "source": [
    "y_pr_predict = average_pr_model_predict(X=X,y=y)"
   ]
  },
  {
   "cell_type": "code",
   "execution_count": 20,
   "metadata": {},
   "outputs": [
    {
     "data": {
      "text/plain": [
       "Text(0.5, 1.0, 'Heart Rate over Respiration Rate')"
      ]
     },
     "execution_count": 20,
     "metadata": {},
     "output_type": "execute_result"
    },
    {
     "data": {
      "image/png": "[encoded data removed]",
      "text/plain": [
       "<Figure size 2000x500 with 1 Axes>"
      ]
     },
     "metadata": {},
     "output_type": "display_data"
    }
   ],
   "source": [
    "plt.figure(num=1, figsize=(20,5))\n",
    "plt.scatter(X, y_pr_predict)\n",
    "plt.ylim(140,150)\n",
    "plt.grid(True)\n",
    "plt.xlabel('Respiration Rate (Breaths per Minute)')\n",
    "plt.ylabel('Heart Rate (Beats per Minute)')\n",
    "plt.title('Heart Rate over Respiration Rate')"
   ]
  },
  {
   "cell_type": "code",
   "execution_count": 21,
   "metadata": {},
   "outputs": [],
   "source": [
    "def test_svr_rbf_model(model, X, y, scaler='MinMax', **kwargs):\n",
    "    X = X.reshape((-1,1))\n",
    "    y = y.reshape((-1,1))\n",
    "\n",
    "    # feature scaling\n",
    "    if scaler == 'MinMax':\n",
    "        MinMax_X = MinMaxScaler()\n",
    "        MinMax_y = MinMaxScaler()\n",
    "        X_l = MinMax_X.fit_transform(X)\n",
    "        # y_p = MinMax_y.fit_transform(y)\n",
    "    else: \n",
    "        StdS_X = StandardScaler()\n",
    "        StdS_y = StandardScaler()\n",
    "        X_l = StdS_X.fit_transform(X)\n",
    "        # y_p = StdS_y.fit_transform(y)\n",
    "\n",
    "    y_p_predict = svr_rbf.predict(X_l)\n",
    "\n",
    "    if scaler == 'MinMax':\n",
    "        y_predict = MinMax_y.inverse_transform(y_p_predict.reshape(-1,1))\n",
    "    else:\n",
    "        y_predict = StdS_y.inverse_transform(y_p_predict.reshape(-1,1))\n",
    "    \n",
    "    mae = mean_absolute_error(y, y_predict)\n",
    "    mse = mean_squared_error(y, y_predict)\n",
    "    rmse = np.sqrt(mse)\n",
    "    print(f'Mean absolute error: {mae:.2f}')\n",
    "    print(f'Mean squared error: {mse:.2f}')\n",
    "    print(f'Root mean squared error: {rmse:.2f}')\n",
    "    return y_predict"
   ]
  },
  {
   "cell_type": "code",
   "execution_count": 22,
   "metadata": {},
   "outputs": [],
   "source": [
    "def average_svr_rbf_model_predict(X, y):\n",
    "    step = 0.25\n",
    "    startHrs = 10\n",
    "    endHrs = 12\n",
    "    degree = 6\n",
    "\n",
    "    filename = f\"../models/infant_1/svr_rbf_model_step{step}_startHrs{startHrs}_endHrs{endHrs}.sav\"\n",
    "    print(filename)\n",
    "    load_svr_rbf_models = joblib.load(filename)\n",
    "    y_predict = test_svr_rbf_model(model=load_svr_rbf_models, X=X, y=y)\n",
    "\n",
    "    for infantNum in range(2, 9, 1):\n",
    "        filename = f\"../models/infant_{infantNum}/svr_rbf_model_step{step}_startHrs{startHrs}_endHrs{endHrs}.sav\"\n",
    "        print(filename)\n",
    "        load_svr_rbf_models = joblib.load(filename)\n",
    "        y_predict_temp = test_svr_rbf_model(model=load_svr_rbf_models, X=X, y=y)\n",
    "        y_predict += y_predict_temp\n",
    "\n",
    "    y_predict = y_predict/8\n",
    "    print(\"-------------------------------------------------------------------------------------------\")\n",
    "    mae = mean_absolute_error(y, y_predict)\n",
    "    mse = mean_squared_error(y, y_predict)\n",
    "    rmse = np.sqrt(mse)\n",
    "    print(f'Mean absolute error: {mae:.2f}')\n",
    "    print(f'Mean squared error: {mse:.2f}')\n",
    "    print(f'Root mean squared error: {rmse:.2f}')\n",
    "    return y_predict"
   ]
  },
  {
   "cell_type": "code",
   "execution_count": 23,
   "metadata": {},
   "outputs": [
    {
     "name": "stdout",
     "output_type": "stream",
     "text": [
      "../models/infant_1/pr_model_step0.25_startHrs10_endHrs12.sav\n",
      "Mean absolute error: 27.57\n",
      "Mean squared error: 911.64\n",
      "Root mean squared error: 30.19\n",
      "../models/infant_2/pr_model_step0.25_startHrs10_endHrs12.sav\n",
      "Mean absolute error: 11.18\n",
      "Mean squared error: 333.18\n",
      "Root mean squared error: 18.25\n",
      "../models/infant_3/pr_model_step0.25_startHrs10_endHrs12.sav\n",
      "Mean absolute error: 11.43\n",
      "Mean squared error: 328.61\n",
      "Root mean squared error: 18.13\n",
      "../models/infant_4/pr_model_step0.25_startHrs10_endHrs12.sav\n",
      "Mean absolute error: 40.08\n",
      "Mean squared error: 1867.62\n",
      "Root mean squared error: 43.22\n",
      "../models/infant_5/pr_model_step0.25_startHrs10_endHrs12.sav\n",
      "Mean absolute error: 32.53\n",
      "Mean squared error: 1248.74\n",
      "Root mean squared error: 35.34\n",
      "../models/infant_6/pr_model_step0.25_startHrs10_endHrs12.sav\n",
      "Mean absolute error: 13.18\n",
      "Mean squared error: 358.42\n",
      "Root mean squared error: 18.93\n",
      "../models/infant_7/pr_model_step0.25_startHrs10_endHrs12.sav\n",
      "Mean absolute error: 33.43\n",
      "Mean squared error: 1284.19\n",
      "Root mean squared error: 35.84\n",
      "../models/infant_8/pr_model_step0.25_startHrs10_endHrs12.sav\n",
      "Mean absolute error: 13.08\n",
      "Mean squared error: 348.91\n",
      "Root mean squared error: 18.68\n",
      "-------------------------------------------------------------------------------------------\n",
      "Mean absolute error: 21.99\n",
      "Mean squared error: 625.08\n",
      "Root mean squared error: 25.00\n"
     ]
    }
   ],
   "source": [
    "y_svr_rbf_predict = average_pr_model_predict(X=X,y=y)"
   ]
  },
  {
   "cell_type": "code",
   "execution_count": 27,
   "metadata": {},
   "outputs": [
    {
     "data": {
      "image/png": "[encoded data removed]",
      "text/plain": [
       "<Figure size 2000x500 with 1 Axes>"
      ]
     },
     "metadata": {},
     "output_type": "display_data"
    }
   ],
   "source": [
    "plt.figure(num=1, figsize=(20,5))\n",
    "plt.scatter(X, y_svr_rbf_predict)\n",
    "plt.ylim(140,150)\n",
    "plt.grid(True)"
   ]
  }
 ],
 "metadata": {
  "kernelspec": {
   "display_name": "mcs_aml_venv_1",
   "language": "python",
   "name": "python3"
  },
  "language_info": {
   "codemirror_mode": {
    "name": "ipython",
    "version": 3
   },
   "file_extension": ".py",
   "mimetype": "text/x-python",
   "name": "python",
   "nbconvert_exporter": "python",
   "pygments_lexer": "ipython3",
   "version": "3.10.6"
  },
  "orig_nbformat": 4,
  "vscode": {
   "interpreter": {
    "hash": "a14dbdb1f72aaa09167b48d00cde9d80f1c9c9222724b1b54b66fa4b88a3fbfb"
   }
  }
 },
 "nbformat": 4,
 "nbformat_minor": 2
}
