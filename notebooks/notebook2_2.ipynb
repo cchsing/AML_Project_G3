{
 "cells": [
  {
   "cell_type": "code",
   "execution_count": 1,
   "metadata": {},
   "outputs": [],
   "source": [
    "from Lib.myModules.my_ML_Modules_1 import *\n",
    "import math\n",
    "import sys\n",
    "import contextlib"
   ]
  },
  {
   "cell_type": "code",
   "execution_count": 2,
   "metadata": {},
   "outputs": [
    {
     "name": "stdout",
     "output_type": "stream",
     "text": [
      "ECG DATA: {'fs': 500, 'sig_len': 78916000, 'n_sig': 1, 'base_date': None, 'base_time': None, 'units': ['mV'], 'sig_name': ['II'], 'comments': []}\n",
      "RESP DATA: {'fs': 50, 'sig_len': 7891433, 'n_sig': 1, 'base_date': None, 'base_time': None, 'units': ['NU'], 'sig_name': ['RESP'], 'comments': []}\n",
      "157832.0 sec, 2630.5333333333333 minutes, 43.84222222222222 hours\n",
      "157828.66 sec, 2630.4776666666667 minutes, 43.84129444444444 hours\n"
     ]
    }
   ],
   "source": [
    "data_dir = \"../data\"\n",
    "infantNum = 2\n",
    "ECG_dataset = f\"{data_dir}/infant{infantNum}_ecg\"\n",
    "RESP_dataset = f\"{data_dir}/infant{infantNum}_resp\"\n",
    "# Read all the data\n",
    "signal_ecg_0 = wfdb.rdsamp(f\"{data_dir}/infant{infantNum}_ecg\")\n",
    "signal_resp_0 = wfdb.rdsamp(f\"{data_dir}/infant{infantNum}_resp\")\n",
    "print(f'ECG DATA: {signal_ecg_0[1]}')\n",
    "print(F'RESP DATA: {signal_resp_0[1]}')\n",
    "totalDuration_ECG = num2Time(num=signal_ecg_0[1]['sig_len'], fs=signal_ecg_0[1]['fs'])\n",
    "print(f'{totalDuration_ECG} sec, {secs2minutes(totalDuration_ECG)} minutes, {secs2hours(totalDuration_ECG)} hours')\n",
    "totalDuration_RESP = num2Time(num=signal_resp_0[1]['sig_len'], fs=signal_resp_0[1]['fs'])\n",
    "print(f'{totalDuration_RESP} sec, {secs2minutes(totalDuration_RESP)} minutes, {secs2hours(totalDuration_RESP)} hours')"
   ]
  },
  {
   "cell_type": "code",
   "execution_count": 3,
   "metadata": {},
   "outputs": [
    {
     "name": "stdout",
     "output_type": "stream",
     "text": [
      "start: 3600000, end: 3960000\n",
      "start: 360000, end: 396000\n",
      "90th percentile: 0.05979828971976473, 10th percentile: -0.09829855844344888, IQR: 0.15809684816321362\n",
      "Identified outliers: 23525\n",
      "Data Shape: (360000,)\n",
      "90th percentile: 24.97982803434372, 10th percentile: 22.14494392558524, IQR: 2.83488410875848\n",
      "Identified outliers: 492\n",
      "Data Shape: (36000,)\n",
      "[[188.58788423   1.70980388]\n",
      " [  1.70980388  91.70667357]]\n",
      "Pearsons correlation: 0.013\n",
      "Spearmans correlation: -0.077\n",
      "---------------------------------------------\n",
      "--- Linear Regression ---\n",
      "Coefficient of determination: 0.00014198578194979383\n",
      "Intercept: [122.613014]\n",
      "Coefficients: [[0.00823566]]\n",
      "Mean absolute error: 6.15\n",
      "Mean squared error: 96.34\n",
      "Root mean squared error: 9.82\n",
      "---------------------------------------------\n",
      "--- Polynomial Regression ---\n",
      "Coefficient of determination: 0.015371050598505742\n",
      "Intercept: [122.65165]\n",
      "Coefficients: [[ 6.3478367e-10 -1.1062037e-08  6.1231242e-07  9.9342124e-06\n",
      "  -4.3642780e-07  4.6474558e-09]]\n",
      "Mean absolute error: 6.03\n",
      "Mean squared error: 89.77\n",
      "Root mean squared error: 9.47\n",
      "---------------------------------------------\n",
      "--- SVR Radius Basis Function---\n",
      "Coefficient of determination: -0.2038374618449066\n",
      "Intercept: [0.07184549]\n",
      "Mean absolute error: 8.09\n",
      "Mean squared error: 118.82\n",
      "Root mean squared error: 10.90\n"
     ]
    }
   ],
   "source": [
    "# initialize the training\n",
    "start_time_secs = hours2secs(2)\n",
    "end_time_secs = hours2secs(2.2)\n",
    "lr_model, pr_model, svr_rbf_model = training_pipeline(start_time_secs=start_time_secs, \n",
    "                                                        end_time_secs=end_time_secs, \n",
    "                                                        signal_ecg_0=signal_ecg_0,\n",
    "                                                        signal_resp_0=signal_resp_0,\n",
    "                                                        ECG_dataset=ECG_dataset,\n",
    "                                                        RESP_dataset=RESP_dataset)"
   ]
  },
  {
   "cell_type": "code",
   "execution_count": 4,
   "metadata": {},
   "outputs": [],
   "source": [
    "step = 0.25\n",
    "startHrs = 10\n",
    "endHrs = 12\n",
    "logFilePath = f\"../logs/infant{infantNum}_step{step}_startHrs{startHrs}_endHrs{endHrs}.log\"\n",
    "\n",
    "with open(logFilePath, 'a') as f:\n",
    "    with contextlib.redirect_stdout(f):\n",
    "        for i in np.arange(startHrs, endHrs, step):\n",
    "            print(\"-------------------------------------------------------------------------\")\n",
    "            print(f\"Data bin index: {i:.3f}\")\n",
    "            start_time_secs = hours2secs(i)\n",
    "            end_time_secs = hours2secs(i+step)\n",
    "            lr_model, pr_model, svr_rbf_model = cascade_training_pipeline(lr_model=lr_model, \n",
    "                                                                            pr_model=pr_model, \n",
    "                                                                            svr_rbf_model=svr_rbf_model, \n",
    "                                                                            start_time_secs=start_time_secs, \n",
    "                                                                            end_time_secs=end_time_secs,\n",
    "                                                                            signal_ecg_0=signal_ecg_0,\n",
    "                                                                            signal_resp_0=signal_resp_0,\n",
    "                                                                            ECG_dataset=ECG_dataset,\n",
    "                                                                            RESP_dataset=RESP_dataset)"
   ]
  },
  {
   "cell_type": "code",
   "execution_count": 5,
   "metadata": {},
   "outputs": [],
   "source": [
    "# save the model\n",
    "for i in [lr_model, pr_model, svr_rbf_model]:\n",
    "    filename = f\"../models/infant_{infantNum}/{namestr(i, globals())[0]}_step{step}_startHrs{startHrs}_endHrs{endHrs}.sav\"\n",
    "    joblib.dump(i, filename)\n"
   ]
  }
 ],
 "metadata": {
  "kernelspec": {
   "display_name": "mcs_aml_venv_1",
   "language": "python",
   "name": "python3"
  },
  "language_info": {
   "codemirror_mode": {
    "name": "ipython",
    "version": 3
   },
   "file_extension": ".py",
   "mimetype": "text/x-python",
   "name": "python",
   "nbconvert_exporter": "python",
   "pygments_lexer": "ipython3",
   "version": "3.10.6"
  },
  "orig_nbformat": 4,
  "vscode": {
   "interpreter": {
    "hash": "a14dbdb1f72aaa09167b48d00cde9d80f1c9c9222724b1b54b66fa4b88a3fbfb"
   }
  }
 },
 "nbformat": 4,
 "nbformat_minor": 2
}
